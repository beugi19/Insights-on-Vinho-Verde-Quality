{
 "metadata": {
  "language_info": {
   "codemirror_mode": {
    "name": "ipython",
    "version": 3
   },
   "file_extension": ".py",
   "mimetype": "text/x-python",
   "name": "python",
   "nbconvert_exporter": "python",
   "pygments_lexer": "ipython3",
   "version": "3.7.7-final"
  },
  "orig_nbformat": 2,
  "kernelspec": {
   "name": "python3",
   "display_name": "Python 3",
   "language": "python"
  }
 },
 "nbformat": 4,
 "nbformat_minor": 2,
 "cells": [
  {
   "cell_type": "code",
   "execution_count": 44,
   "metadata": {},
   "outputs": [],
   "source": [
    "import pandas as pd\n",
    "import numpy as np \n",
    "import seaborn as sns\n",
    "import matplotlib.pyplot as plt \n",
    "from sklearn.model_selection import train_test_split\n",
    "from collections import Counter\n",
    "from sklearn.preprocessing import StandardScaler\n",
    "from sklearn.preprocessing import LabelEncoder, OneHotEncoder\n",
    "from sklearn.metrics import accuracy_score, confusion_matrix \n",
    "\n",
    "wine_data=pd.read_csv('wine_sales_data.csv', sep=',')\n",
    "#wine_data=wine_data[np.isnan(wine_data['price'])==False]"
   ]
  },
  {
   "cell_type": "code",
   "execution_count": 84,
   "metadata": {},
   "outputs": [
    {
     "output_type": "execute_result",
     "data": {
      "text/plain": [
       "(396, 11)"
      ]
     },
     "metadata": {},
     "execution_count": 84
    }
   ],
   "source": [
    "vinho_verde=wine_data[(wine_data['country']=='Portugal') & (wine_data['province']=='Vinho Verde') & (np.isnan(wine_data['price'])==False)]\n",
    "vv_all=wine_data[(wine_data['country']=='Portugal') & (wine_data['province']=='Vinho Verde')]\n",
    "vv_all.shape\n",
    "#Only Vinho Verde (with given price entry)"
   ]
  },
  {
   "cell_type": "code",
   "execution_count": 3,
   "metadata": {},
   "outputs": [],
   "source": [
    "vv_cut=(vinho_verde.sort_values('price')).iloc[31:279,:]\n",
    "#Eliminate the top and botton 10% as outliers"
   ]
  },
  {
   "cell_type": "code",
   "execution_count": 4,
   "metadata": {},
   "outputs": [
    {
     "output_type": "execute_result",
     "data": {
      "text/plain": [
       "        Unnamed: 0   country  \\\n",
       "140221      140221  Portugal   \n",
       "139930      139930  Portugal   \n",
       "82073        82073  Portugal   \n",
       "128333      128333  Portugal   \n",
       "74645        74645  Portugal   \n",
       "\n",
       "                                              description designation  points  \\\n",
       "140221  This relatively dry style is crisp, fresh and ...     Lagosta      85   \n",
       "139930  A low-alcohol (9.5%), apéritif style of Vinho ...      Famega      85   \n",
       "82073   A medium-dry Vinho Verde, this is light and fr...     Aliança      85   \n",
       "128333  A medium-dry Vinho Verde, this is light and fr...     Aliança      85   \n",
       "74645   This fruity selection has light fizz and soft,...      Xadrez      84   \n",
       "\n",
       "        price     province region_1 region_2           variety  \\\n",
       "140221    7.0  Vinho Verde      NaN      NaN  Portuguese White   \n",
       "139930    7.0  Vinho Verde      NaN      NaN  Portuguese White   \n",
       "82073     7.0  Vinho Verde      NaN      NaN  Portuguese White   \n",
       "128333    7.0  Vinho Verde      NaN      NaN  Portuguese White   \n",
       "74645     7.0  Vinho Verde      NaN      NaN  Portuguese White   \n",
       "\n",
       "                    winery  \n",
       "140221  Caves Dom Teodosio  \n",
       "139930      Caves da Cerca  \n",
       "82073        Caves Aliança  \n",
       "128333       Caves Aliança  \n",
       "74645              Dão Sul  "
      ],
      "text/html": "<div>\n<style scoped>\n    .dataframe tbody tr th:only-of-type {\n        vertical-align: middle;\n    }\n\n    .dataframe tbody tr th {\n        vertical-align: top;\n    }\n\n    .dataframe thead th {\n        text-align: right;\n    }\n</style>\n<table border=\"1\" class=\"dataframe\">\n  <thead>\n    <tr style=\"text-align: right;\">\n      <th></th>\n      <th>Unnamed: 0</th>\n      <th>country</th>\n      <th>description</th>\n      <th>designation</th>\n      <th>points</th>\n      <th>price</th>\n      <th>province</th>\n      <th>region_1</th>\n      <th>region_2</th>\n      <th>variety</th>\n      <th>winery</th>\n    </tr>\n  </thead>\n  <tbody>\n    <tr>\n      <th>140221</th>\n      <td>140221</td>\n      <td>Portugal</td>\n      <td>This relatively dry style is crisp, fresh and ...</td>\n      <td>Lagosta</td>\n      <td>85</td>\n      <td>7.0</td>\n      <td>Vinho Verde</td>\n      <td>NaN</td>\n      <td>NaN</td>\n      <td>Portuguese White</td>\n      <td>Caves Dom Teodosio</td>\n    </tr>\n    <tr>\n      <th>139930</th>\n      <td>139930</td>\n      <td>Portugal</td>\n      <td>A low-alcohol (9.5%), apéritif style of Vinho ...</td>\n      <td>Famega</td>\n      <td>85</td>\n      <td>7.0</td>\n      <td>Vinho Verde</td>\n      <td>NaN</td>\n      <td>NaN</td>\n      <td>Portuguese White</td>\n      <td>Caves da Cerca</td>\n    </tr>\n    <tr>\n      <th>82073</th>\n      <td>82073</td>\n      <td>Portugal</td>\n      <td>A medium-dry Vinho Verde, this is light and fr...</td>\n      <td>Aliança</td>\n      <td>85</td>\n      <td>7.0</td>\n      <td>Vinho Verde</td>\n      <td>NaN</td>\n      <td>NaN</td>\n      <td>Portuguese White</td>\n      <td>Caves Aliança</td>\n    </tr>\n    <tr>\n      <th>128333</th>\n      <td>128333</td>\n      <td>Portugal</td>\n      <td>A medium-dry Vinho Verde, this is light and fr...</td>\n      <td>Aliança</td>\n      <td>85</td>\n      <td>7.0</td>\n      <td>Vinho Verde</td>\n      <td>NaN</td>\n      <td>NaN</td>\n      <td>Portuguese White</td>\n      <td>Caves Aliança</td>\n    </tr>\n    <tr>\n      <th>74645</th>\n      <td>74645</td>\n      <td>Portugal</td>\n      <td>This fruity selection has light fizz and soft,...</td>\n      <td>Xadrez</td>\n      <td>84</td>\n      <td>7.0</td>\n      <td>Vinho Verde</td>\n      <td>NaN</td>\n      <td>NaN</td>\n      <td>Portuguese White</td>\n      <td>Dão Sul</td>\n    </tr>\n  </tbody>\n</table>\n</div>"
     },
     "metadata": {},
     "execution_count": 4
    }
   ],
   "source": [
    "vv_cut.head()"
   ]
  },
  {
   "cell_type": "code",
   "execution_count": 5,
   "metadata": {},
   "outputs": [],
   "source": [
    "vv_low=vv_cut[vv_cut['points']<85]\n",
    "vv_med=vv_cut[(vv_cut['points']>84) & (vv_cut['points'] <88)]\n",
    "vv_high=vv_cut[vv_cut['points']>87]\n",
    "#Vinho Verde is in average quite low-quality, almost none of them rated over 90"
   ]
  },
  {
   "cell_type": "code",
   "execution_count": 6,
   "metadata": {},
   "outputs": [
    {
     "output_type": "execute_result",
     "data": {
      "text/plain": [
       "47"
      ]
     },
     "metadata": {},
     "execution_count": 6
    }
   ],
   "source": [
    "vv_cut['winery'].nunique()\n",
    "#47 wineries and >100 designations are too many to do an analysis, however we have 10 varieties."
   ]
  },
  {
   "cell_type": "code",
   "execution_count": 21,
   "metadata": {},
   "outputs": [
    {
     "output_type": "execute_result",
     "data": {
      "text/plain": [
       "                  Unnamed: 0  country  description  designation  points  \\\n",
       "variety                                                                   \n",
       "Alvarinho                 22       22           22           14      22   \n",
       "Arinto                     1        1            1            1       1   \n",
       "Avesso                     3        3            3            1       3   \n",
       "Azal                       1        1            1            1       1   \n",
       "Loureiro                  24       24           24           14      24   \n",
       "Portuguese Red             4        4            4            2       4   \n",
       "Portuguese Rosé            1        1            1            1       1   \n",
       "Portuguese White         164      164          164          131     164   \n",
       "Rosé                      27       27           27           17      27   \n",
       "White Blend                1        1            1            0       1   \n",
       "\n",
       "                  price  province  region_1  region_2  winery  IsAlv  IsLou  \\\n",
       "variety                                                                       \n",
       "Alvarinho            22        22         0         0      22     22     22   \n",
       "Arinto                1         1         0         0       1      1      1   \n",
       "Avesso                3         3         0         0       3      3      3   \n",
       "Azal                  1         1         0         0       1      1      1   \n",
       "Loureiro             24        24         0         0      24     24     24   \n",
       "Portuguese Red        4         4         0         0       4      4      4   \n",
       "Portuguese Rosé       1         1         0         0       1      1      1   \n",
       "Portuguese White    164       164         0         0     164    164    164   \n",
       "Rosé                 27        27         0         0      27     27     27   \n",
       "White Blend           1         1         0         0       1      1      1   \n",
       "\n",
       "                  IsWhite  IsRose  \n",
       "variety                            \n",
       "Alvarinho              22      22  \n",
       "Arinto                  1       1  \n",
       "Avesso                  3       3  \n",
       "Azal                    1       1  \n",
       "Loureiro               24      24  \n",
       "Portuguese Red          4       4  \n",
       "Portuguese Rosé         1       1  \n",
       "Portuguese White      164     164  \n",
       "Rosé                   27      27  \n",
       "White Blend             1       1  "
      ],
      "text/html": "<div>\n<style scoped>\n    .dataframe tbody tr th:only-of-type {\n        vertical-align: middle;\n    }\n\n    .dataframe tbody tr th {\n        vertical-align: top;\n    }\n\n    .dataframe thead th {\n        text-align: right;\n    }\n</style>\n<table border=\"1\" class=\"dataframe\">\n  <thead>\n    <tr style=\"text-align: right;\">\n      <th></th>\n      <th>Unnamed: 0</th>\n      <th>country</th>\n      <th>description</th>\n      <th>designation</th>\n      <th>points</th>\n      <th>price</th>\n      <th>province</th>\n      <th>region_1</th>\n      <th>region_2</th>\n      <th>winery</th>\n      <th>IsAlv</th>\n      <th>IsLou</th>\n      <th>IsWhite</th>\n      <th>IsRose</th>\n    </tr>\n    <tr>\n      <th>variety</th>\n      <th></th>\n      <th></th>\n      <th></th>\n      <th></th>\n      <th></th>\n      <th></th>\n      <th></th>\n      <th></th>\n      <th></th>\n      <th></th>\n      <th></th>\n      <th></th>\n      <th></th>\n      <th></th>\n    </tr>\n  </thead>\n  <tbody>\n    <tr>\n      <th>Alvarinho</th>\n      <td>22</td>\n      <td>22</td>\n      <td>22</td>\n      <td>14</td>\n      <td>22</td>\n      <td>22</td>\n      <td>22</td>\n      <td>0</td>\n      <td>0</td>\n      <td>22</td>\n      <td>22</td>\n      <td>22</td>\n      <td>22</td>\n      <td>22</td>\n    </tr>\n    <tr>\n      <th>Arinto</th>\n      <td>1</td>\n      <td>1</td>\n      <td>1</td>\n      <td>1</td>\n      <td>1</td>\n      <td>1</td>\n      <td>1</td>\n      <td>0</td>\n      <td>0</td>\n      <td>1</td>\n      <td>1</td>\n      <td>1</td>\n      <td>1</td>\n      <td>1</td>\n    </tr>\n    <tr>\n      <th>Avesso</th>\n      <td>3</td>\n      <td>3</td>\n      <td>3</td>\n      <td>1</td>\n      <td>3</td>\n      <td>3</td>\n      <td>3</td>\n      <td>0</td>\n      <td>0</td>\n      <td>3</td>\n      <td>3</td>\n      <td>3</td>\n      <td>3</td>\n      <td>3</td>\n    </tr>\n    <tr>\n      <th>Azal</th>\n      <td>1</td>\n      <td>1</td>\n      <td>1</td>\n      <td>1</td>\n      <td>1</td>\n      <td>1</td>\n      <td>1</td>\n      <td>0</td>\n      <td>0</td>\n      <td>1</td>\n      <td>1</td>\n      <td>1</td>\n      <td>1</td>\n      <td>1</td>\n    </tr>\n    <tr>\n      <th>Loureiro</th>\n      <td>24</td>\n      <td>24</td>\n      <td>24</td>\n      <td>14</td>\n      <td>24</td>\n      <td>24</td>\n      <td>24</td>\n      <td>0</td>\n      <td>0</td>\n      <td>24</td>\n      <td>24</td>\n      <td>24</td>\n      <td>24</td>\n      <td>24</td>\n    </tr>\n    <tr>\n      <th>Portuguese Red</th>\n      <td>4</td>\n      <td>4</td>\n      <td>4</td>\n      <td>2</td>\n      <td>4</td>\n      <td>4</td>\n      <td>4</td>\n      <td>0</td>\n      <td>0</td>\n      <td>4</td>\n      <td>4</td>\n      <td>4</td>\n      <td>4</td>\n      <td>4</td>\n    </tr>\n    <tr>\n      <th>Portuguese Rosé</th>\n      <td>1</td>\n      <td>1</td>\n      <td>1</td>\n      <td>1</td>\n      <td>1</td>\n      <td>1</td>\n      <td>1</td>\n      <td>0</td>\n      <td>0</td>\n      <td>1</td>\n      <td>1</td>\n      <td>1</td>\n      <td>1</td>\n      <td>1</td>\n    </tr>\n    <tr>\n      <th>Portuguese White</th>\n      <td>164</td>\n      <td>164</td>\n      <td>164</td>\n      <td>131</td>\n      <td>164</td>\n      <td>164</td>\n      <td>164</td>\n      <td>0</td>\n      <td>0</td>\n      <td>164</td>\n      <td>164</td>\n      <td>164</td>\n      <td>164</td>\n      <td>164</td>\n    </tr>\n    <tr>\n      <th>Rosé</th>\n      <td>27</td>\n      <td>27</td>\n      <td>27</td>\n      <td>17</td>\n      <td>27</td>\n      <td>27</td>\n      <td>27</td>\n      <td>0</td>\n      <td>0</td>\n      <td>27</td>\n      <td>27</td>\n      <td>27</td>\n      <td>27</td>\n      <td>27</td>\n    </tr>\n    <tr>\n      <th>White Blend</th>\n      <td>1</td>\n      <td>1</td>\n      <td>1</td>\n      <td>0</td>\n      <td>1</td>\n      <td>1</td>\n      <td>1</td>\n      <td>0</td>\n      <td>0</td>\n      <td>1</td>\n      <td>1</td>\n      <td>1</td>\n      <td>1</td>\n      <td>1</td>\n    </tr>\n  </tbody>\n</table>\n</div>"
     },
     "metadata": {},
     "execution_count": 21
    }
   ],
   "source": [
    "(vv_cut.groupby('variety')).count()"
   ]
  },
  {
   "cell_type": "code",
   "execution_count": 20,
   "metadata": {},
   "outputs": [],
   "source": [
    "vv_cut['IsAlv']= vv_cut['variety'].apply(lambda value: 1\n",
    "if value == 'Alvarinho' else 0)\n",
    "vv_cut['IsLou']= vv_cut['variety'].apply(lambda value: 1\n",
    "if value == 'Loureiro' else 0)\n",
    "vv_cut['IsWhite']= vv_cut['variety'].apply(lambda value: 1\n",
    "if value == 'Portuguese White' else 0)\n",
    "vv_cut['IsRose']= vv_cut['variety'].apply(lambda value: 1\n",
    "if (value == 'Rosé' or value=='Portuguese Rosé') else 0)\n",
    "# I will ignore the winery indications for now since there are a lot of wineries and probably highly correlated to wine type.\n",
    "#Useful to predict price: rating, wine type."
   ]
  },
  {
   "cell_type": "code",
   "execution_count": 9,
   "metadata": {},
   "outputs": [
    {
     "output_type": "display_data",
     "data": {
      "text/plain": "<Figure size 432x288 with 1 Axes>",
      "image/svg+xml": "<?xml version=\"1.0\" encoding=\"utf-8\" standalone=\"no\"?>\n<!DOCTYPE svg PUBLIC \"-//W3C//DTD SVG 1.1//EN\"\n  \"http://www.w3.org/Graphics/SVG/1.1/DTD/svg11.dtd\">\n<!-- Created with matplotlib (https://matplotlib.org/) -->\n<svg height=\"248.518125pt\" version=\"1.1\" viewBox=\"0 0 368.925 248.518125\" width=\"368.925pt\" xmlns=\"http://www.w3.org/2000/svg\" xmlns:xlink=\"http://www.w3.org/1999/xlink\">\n <metadata>\n  <rdf:RDF xmlns:cc=\"http://creativecommons.org/ns#\" xmlns:dc=\"http://purl.org/dc/elements/1.1/\" xmlns:rdf=\"http://www.w3.org/1999/02/22-rdf-syntax-ns#\">\n   <cc:Work>\n    <dc:type rdf:resource=\"http://purl.org/dc/dcmitype/StillImage\"/>\n    <dc:date>2020-12-17T10:30:37.552107</dc:date>\n    <dc:format>image/svg+xml</dc:format>\n    <dc:creator>\n     <cc:Agent>\n      <dc:title>Matplotlib v3.3.2, https://matplotlib.org/</dc:title>\n     </cc:Agent>\n    </dc:creator>\n   </cc:Work>\n  </rdf:RDF>\n </metadata>\n <defs>\n  <style type=\"text/css\">*{stroke-linecap:butt;stroke-linejoin:round;}</style>\n </defs>\n <g id=\"figure_1\">\n  <g id=\"patch_1\">\n   <path d=\"M -0 248.518125 \nL 368.925 248.518125 \nL 368.925 0 \nL -0 0 \nz\n\" style=\"fill:none;\"/>\n  </g>\n  <g id=\"axes_1\">\n   <g id=\"patch_2\">\n    <path d=\"M 26.925 224.64 \nL 361.725 224.64 \nL 361.725 7.2 \nL 26.925 7.2 \nz\n\" style=\"fill:#ffffff;\"/>\n   </g>\n   <g id=\"matplotlib.axis_1\">\n    <g id=\"xtick_1\">\n     <g id=\"line2d_1\">\n      <defs>\n       <path d=\"M 0 0 \nL 0 3.5 \n\" id=\"mdb2849cdea\" style=\"stroke:#000000;stroke-width:0.8;\"/>\n      </defs>\n      <g>\n       <use style=\"stroke:#000000;stroke-width:0.8;\" x=\"42.143182\" xlink:href=\"#mdb2849cdea\" y=\"224.64\"/>\n      </g>\n     </g>\n     <g id=\"text_1\">\n      <!-- 80 -->\n      <g transform=\"translate(35.780682 239.238437)scale(0.1 -0.1)\">\n       <defs>\n        <path d=\"M 31.78125 34.625 \nQ 24.75 34.625 20.71875 30.859375 \nQ 16.703125 27.09375 16.703125 20.515625 \nQ 16.703125 13.921875 20.71875 10.15625 \nQ 24.75 6.390625 31.78125 6.390625 \nQ 38.8125 6.390625 42.859375 10.171875 \nQ 46.921875 13.96875 46.921875 20.515625 \nQ 46.921875 27.09375 42.890625 30.859375 \nQ 38.875 34.625 31.78125 34.625 \nz\nM 21.921875 38.8125 \nQ 15.578125 40.375 12.03125 44.71875 \nQ 8.5 49.078125 8.5 55.328125 \nQ 8.5 64.0625 14.71875 69.140625 \nQ 20.953125 74.21875 31.78125 74.21875 \nQ 42.671875 74.21875 48.875 69.140625 \nQ 55.078125 64.0625 55.078125 55.328125 \nQ 55.078125 49.078125 51.53125 44.71875 \nQ 48 40.375 41.703125 38.8125 \nQ 48.828125 37.15625 52.796875 32.3125 \nQ 56.78125 27.484375 56.78125 20.515625 \nQ 56.78125 9.90625 50.3125 4.234375 \nQ 43.84375 -1.421875 31.78125 -1.421875 \nQ 19.734375 -1.421875 13.25 4.234375 \nQ 6.78125 9.90625 6.78125 20.515625 \nQ 6.78125 27.484375 10.78125 32.3125 \nQ 14.796875 37.15625 21.921875 38.8125 \nz\nM 18.3125 54.390625 \nQ 18.3125 48.734375 21.84375 45.5625 \nQ 25.390625 42.390625 31.78125 42.390625 \nQ 38.140625 42.390625 41.71875 45.5625 \nQ 45.3125 48.734375 45.3125 54.390625 \nQ 45.3125 60.0625 41.71875 63.234375 \nQ 38.140625 66.40625 31.78125 66.40625 \nQ 25.390625 66.40625 21.84375 63.234375 \nQ 18.3125 60.0625 18.3125 54.390625 \nz\n\" id=\"DejaVuSans-56\"/>\n        <path d=\"M 31.78125 66.40625 \nQ 24.171875 66.40625 20.328125 58.90625 \nQ 16.5 51.421875 16.5 36.375 \nQ 16.5 21.390625 20.328125 13.890625 \nQ 24.171875 6.390625 31.78125 6.390625 \nQ 39.453125 6.390625 43.28125 13.890625 \nQ 47.125 21.390625 47.125 36.375 \nQ 47.125 51.421875 43.28125 58.90625 \nQ 39.453125 66.40625 31.78125 66.40625 \nz\nM 31.78125 74.21875 \nQ 44.046875 74.21875 50.515625 64.515625 \nQ 56.984375 54.828125 56.984375 36.375 \nQ 56.984375 17.96875 50.515625 8.265625 \nQ 44.046875 -1.421875 31.78125 -1.421875 \nQ 19.53125 -1.421875 13.0625 8.265625 \nQ 6.59375 17.96875 6.59375 36.375 \nQ 6.59375 54.828125 13.0625 64.515625 \nQ 19.53125 74.21875 31.78125 74.21875 \nz\n\" id=\"DejaVuSans-48\"/>\n       </defs>\n       <use xlink:href=\"#DejaVuSans-56\"/>\n       <use x=\"63.623047\" xlink:href=\"#DejaVuSans-48\"/>\n      </g>\n     </g>\n    </g>\n    <g id=\"xtick_2\">\n     <g id=\"line2d_2\">\n      <g>\n       <use style=\"stroke:#000000;stroke-width:0.8;\" x=\"97.482025\" xlink:href=\"#mdb2849cdea\" y=\"224.64\"/>\n      </g>\n     </g>\n     <g id=\"text_2\">\n      <!-- 82 -->\n      <g transform=\"translate(91.119525 239.238437)scale(0.1 -0.1)\">\n       <defs>\n        <path d=\"M 19.1875 8.296875 \nL 53.609375 8.296875 \nL 53.609375 0 \nL 7.328125 0 \nL 7.328125 8.296875 \nQ 12.9375 14.109375 22.625 23.890625 \nQ 32.328125 33.6875 34.8125 36.53125 \nQ 39.546875 41.84375 41.421875 45.53125 \nQ 43.3125 49.21875 43.3125 52.78125 \nQ 43.3125 58.59375 39.234375 62.25 \nQ 35.15625 65.921875 28.609375 65.921875 \nQ 23.96875 65.921875 18.8125 64.3125 \nQ 13.671875 62.703125 7.8125 59.421875 \nL 7.8125 69.390625 \nQ 13.765625 71.78125 18.9375 73 \nQ 24.125 74.21875 28.421875 74.21875 \nQ 39.75 74.21875 46.484375 68.546875 \nQ 53.21875 62.890625 53.21875 53.421875 \nQ 53.21875 48.921875 51.53125 44.890625 \nQ 49.859375 40.875 45.40625 35.40625 \nQ 44.1875 33.984375 37.640625 27.21875 \nQ 31.109375 20.453125 19.1875 8.296875 \nz\n\" id=\"DejaVuSans-50\"/>\n       </defs>\n       <use xlink:href=\"#DejaVuSans-56\"/>\n       <use x=\"63.623047\" xlink:href=\"#DejaVuSans-50\"/>\n      </g>\n     </g>\n    </g>\n    <g id=\"xtick_3\">\n     <g id=\"line2d_3\">\n      <g>\n       <use style=\"stroke:#000000;stroke-width:0.8;\" x=\"152.820868\" xlink:href=\"#mdb2849cdea\" y=\"224.64\"/>\n      </g>\n     </g>\n     <g id=\"text_3\">\n      <!-- 84 -->\n      <g transform=\"translate(146.458368 239.238437)scale(0.1 -0.1)\">\n       <defs>\n        <path d=\"M 37.796875 64.3125 \nL 12.890625 25.390625 \nL 37.796875 25.390625 \nz\nM 35.203125 72.90625 \nL 47.609375 72.90625 \nL 47.609375 25.390625 \nL 58.015625 25.390625 \nL 58.015625 17.1875 \nL 47.609375 17.1875 \nL 47.609375 0 \nL 37.796875 0 \nL 37.796875 17.1875 \nL 4.890625 17.1875 \nL 4.890625 26.703125 \nz\n\" id=\"DejaVuSans-52\"/>\n       </defs>\n       <use xlink:href=\"#DejaVuSans-56\"/>\n       <use x=\"63.623047\" xlink:href=\"#DejaVuSans-52\"/>\n      </g>\n     </g>\n    </g>\n    <g id=\"xtick_4\">\n     <g id=\"line2d_4\">\n      <g>\n       <use style=\"stroke:#000000;stroke-width:0.8;\" x=\"208.159711\" xlink:href=\"#mdb2849cdea\" y=\"224.64\"/>\n      </g>\n     </g>\n     <g id=\"text_4\">\n      <!-- 86 -->\n      <g transform=\"translate(201.797211 239.238437)scale(0.1 -0.1)\">\n       <defs>\n        <path d=\"M 33.015625 40.375 \nQ 26.375 40.375 22.484375 35.828125 \nQ 18.609375 31.296875 18.609375 23.390625 \nQ 18.609375 15.53125 22.484375 10.953125 \nQ 26.375 6.390625 33.015625 6.390625 \nQ 39.65625 6.390625 43.53125 10.953125 \nQ 47.40625 15.53125 47.40625 23.390625 \nQ 47.40625 31.296875 43.53125 35.828125 \nQ 39.65625 40.375 33.015625 40.375 \nz\nM 52.59375 71.296875 \nL 52.59375 62.3125 \nQ 48.875 64.0625 45.09375 64.984375 \nQ 41.3125 65.921875 37.59375 65.921875 \nQ 27.828125 65.921875 22.671875 59.328125 \nQ 17.53125 52.734375 16.796875 39.40625 \nQ 19.671875 43.65625 24.015625 45.921875 \nQ 28.375 48.1875 33.59375 48.1875 \nQ 44.578125 48.1875 50.953125 41.515625 \nQ 57.328125 34.859375 57.328125 23.390625 \nQ 57.328125 12.15625 50.6875 5.359375 \nQ 44.046875 -1.421875 33.015625 -1.421875 \nQ 20.359375 -1.421875 13.671875 8.265625 \nQ 6.984375 17.96875 6.984375 36.375 \nQ 6.984375 53.65625 15.1875 63.9375 \nQ 23.390625 74.21875 37.203125 74.21875 \nQ 40.921875 74.21875 44.703125 73.484375 \nQ 48.484375 72.75 52.59375 71.296875 \nz\n\" id=\"DejaVuSans-54\"/>\n       </defs>\n       <use xlink:href=\"#DejaVuSans-56\"/>\n       <use x=\"63.623047\" xlink:href=\"#DejaVuSans-54\"/>\n      </g>\n     </g>\n    </g>\n    <g id=\"xtick_5\">\n     <g id=\"line2d_5\">\n      <g>\n       <use style=\"stroke:#000000;stroke-width:0.8;\" x=\"263.498554\" xlink:href=\"#mdb2849cdea\" y=\"224.64\"/>\n      </g>\n     </g>\n     <g id=\"text_5\">\n      <!-- 88 -->\n      <g transform=\"translate(257.136054 239.238437)scale(0.1 -0.1)\">\n       <use xlink:href=\"#DejaVuSans-56\"/>\n       <use x=\"63.623047\" xlink:href=\"#DejaVuSans-56\"/>\n      </g>\n     </g>\n    </g>\n    <g id=\"xtick_6\">\n     <g id=\"line2d_6\">\n      <g>\n       <use style=\"stroke:#000000;stroke-width:0.8;\" x=\"318.837397\" xlink:href=\"#mdb2849cdea\" y=\"224.64\"/>\n      </g>\n     </g>\n     <g id=\"text_6\">\n      <!-- 90 -->\n      <g transform=\"translate(312.474897 239.238437)scale(0.1 -0.1)\">\n       <defs>\n        <path d=\"M 10.984375 1.515625 \nL 10.984375 10.5 \nQ 14.703125 8.734375 18.5 7.8125 \nQ 22.3125 6.890625 25.984375 6.890625 \nQ 35.75 6.890625 40.890625 13.453125 \nQ 46.046875 20.015625 46.78125 33.40625 \nQ 43.953125 29.203125 39.59375 26.953125 \nQ 35.25 24.703125 29.984375 24.703125 \nQ 19.046875 24.703125 12.671875 31.3125 \nQ 6.296875 37.9375 6.296875 49.421875 \nQ 6.296875 60.640625 12.9375 67.421875 \nQ 19.578125 74.21875 30.609375 74.21875 \nQ 43.265625 74.21875 49.921875 64.515625 \nQ 56.59375 54.828125 56.59375 36.375 \nQ 56.59375 19.140625 48.40625 8.859375 \nQ 40.234375 -1.421875 26.421875 -1.421875 \nQ 22.703125 -1.421875 18.890625 -0.6875 \nQ 15.09375 0.046875 10.984375 1.515625 \nz\nM 30.609375 32.421875 \nQ 37.25 32.421875 41.125 36.953125 \nQ 45.015625 41.5 45.015625 49.421875 \nQ 45.015625 57.28125 41.125 61.84375 \nQ 37.25 66.40625 30.609375 66.40625 \nQ 23.96875 66.40625 20.09375 61.84375 \nQ 16.21875 57.28125 16.21875 49.421875 \nQ 16.21875 41.5 20.09375 36.953125 \nQ 23.96875 32.421875 30.609375 32.421875 \nz\n\" id=\"DejaVuSans-57\"/>\n       </defs>\n       <use xlink:href=\"#DejaVuSans-57\"/>\n       <use x=\"63.623047\" xlink:href=\"#DejaVuSans-48\"/>\n      </g>\n     </g>\n    </g>\n   </g>\n   <g id=\"matplotlib.axis_2\">\n    <g id=\"ytick_1\">\n     <g id=\"line2d_7\">\n      <defs>\n       <path d=\"M 0 0 \nL -3.5 0 \n\" id=\"meaad743acf\" style=\"stroke:#000000;stroke-width:0.8;\"/>\n      </defs>\n      <g>\n       <use style=\"stroke:#000000;stroke-width:0.8;\" x=\"26.925\" xlink:href=\"#meaad743acf\" y=\"194.989091\"/>\n      </g>\n     </g>\n     <g id=\"text_7\">\n      <!-- 8 -->\n      <g transform=\"translate(13.5625 198.78831)scale(0.1 -0.1)\">\n       <use xlink:href=\"#DejaVuSans-56\"/>\n      </g>\n     </g>\n    </g>\n    <g id=\"ytick_2\">\n     <g id=\"line2d_8\">\n      <g>\n       <use style=\"stroke:#000000;stroke-width:0.8;\" x=\"26.925\" xlink:href=\"#meaad743acf\" y=\"155.454545\"/>\n      </g>\n     </g>\n     <g id=\"text_8\">\n      <!-- 10 -->\n      <g transform=\"translate(7.2 159.253764)scale(0.1 -0.1)\">\n       <defs>\n        <path d=\"M 12.40625 8.296875 \nL 28.515625 8.296875 \nL 28.515625 63.921875 \nL 10.984375 60.40625 \nL 10.984375 69.390625 \nL 28.421875 72.90625 \nL 38.28125 72.90625 \nL 38.28125 8.296875 \nL 54.390625 8.296875 \nL 54.390625 0 \nL 12.40625 0 \nz\n\" id=\"DejaVuSans-49\"/>\n       </defs>\n       <use xlink:href=\"#DejaVuSans-49\"/>\n       <use x=\"63.623047\" xlink:href=\"#DejaVuSans-48\"/>\n      </g>\n     </g>\n    </g>\n    <g id=\"ytick_3\">\n     <g id=\"line2d_9\">\n      <g>\n       <use style=\"stroke:#000000;stroke-width:0.8;\" x=\"26.925\" xlink:href=\"#meaad743acf\" y=\"115.92\"/>\n      </g>\n     </g>\n     <g id=\"text_9\">\n      <!-- 12 -->\n      <g transform=\"translate(7.2 119.719219)scale(0.1 -0.1)\">\n       <use xlink:href=\"#DejaVuSans-49\"/>\n       <use x=\"63.623047\" xlink:href=\"#DejaVuSans-50\"/>\n      </g>\n     </g>\n    </g>\n    <g id=\"ytick_4\">\n     <g id=\"line2d_10\">\n      <g>\n       <use style=\"stroke:#000000;stroke-width:0.8;\" x=\"26.925\" xlink:href=\"#meaad743acf\" y=\"76.385455\"/>\n      </g>\n     </g>\n     <g id=\"text_10\">\n      <!-- 14 -->\n      <g transform=\"translate(7.2 80.184673)scale(0.1 -0.1)\">\n       <use xlink:href=\"#DejaVuSans-49\"/>\n       <use x=\"63.623047\" xlink:href=\"#DejaVuSans-52\"/>\n      </g>\n     </g>\n    </g>\n    <g id=\"ytick_5\">\n     <g id=\"line2d_11\">\n      <g>\n       <use style=\"stroke:#000000;stroke-width:0.8;\" x=\"26.925\" xlink:href=\"#meaad743acf\" y=\"36.850909\"/>\n      </g>\n     </g>\n     <g id=\"text_11\">\n      <!-- 16 -->\n      <g transform=\"translate(7.2 40.650128)scale(0.1 -0.1)\">\n       <use xlink:href=\"#DejaVuSans-49\"/>\n       <use x=\"63.623047\" xlink:href=\"#DejaVuSans-54\"/>\n      </g>\n     </g>\n    </g>\n   </g>\n   <g id=\"line2d_12\">\n    <defs>\n     <path d=\"M 0 1.5 \nC 0.397805 1.5 0.77937 1.341951 1.06066 1.06066 \nC 1.341951 0.77937 1.5 0.397805 1.5 0 \nC 1.5 -0.397805 1.341951 -0.77937 1.06066 -1.06066 \nC 0.77937 -1.341951 0.397805 -1.5 0 -1.5 \nC -0.397805 -1.5 -0.77937 -1.341951 -1.06066 -1.06066 \nC -1.341951 -0.77937 -1.5 -0.397805 -1.5 0 \nC -1.5 0.397805 -1.341951 0.77937 -1.06066 1.06066 \nC -0.77937 1.341951 -0.397805 1.5 0 1.5 \nz\n\" id=\"m4d114344a3\" style=\"stroke:#0000ff;\"/>\n    </defs>\n    <g clip-path=\"url(#p5dda2cd21e)\">\n     <use style=\"fill:#0000ff;stroke:#0000ff;\" x=\"180.490289\" xlink:href=\"#m4d114344a3\" y=\"214.756364\"/>\n     <use style=\"fill:#0000ff;stroke:#0000ff;\" x=\"180.490289\" xlink:href=\"#m4d114344a3\" y=\"214.756364\"/>\n     <use style=\"fill:#0000ff;stroke:#0000ff;\" x=\"180.490289\" xlink:href=\"#m4d114344a3\" y=\"214.756364\"/>\n     <use style=\"fill:#0000ff;stroke:#0000ff;\" x=\"180.490289\" xlink:href=\"#m4d114344a3\" y=\"214.756364\"/>\n     <use style=\"fill:#0000ff;stroke:#0000ff;\" x=\"152.820868\" xlink:href=\"#m4d114344a3\" y=\"214.756364\"/>\n     <use style=\"fill:#0000ff;stroke:#0000ff;\" x=\"208.159711\" xlink:href=\"#m4d114344a3\" y=\"214.756364\"/>\n     <use style=\"fill:#0000ff;stroke:#0000ff;\" x=\"152.820868\" xlink:href=\"#m4d114344a3\" y=\"214.756364\"/>\n     <use style=\"fill:#0000ff;stroke:#0000ff;\" x=\"180.490289\" xlink:href=\"#m4d114344a3\" y=\"214.756364\"/>\n     <use style=\"fill:#0000ff;stroke:#0000ff;\" x=\"235.829132\" xlink:href=\"#m4d114344a3\" y=\"214.756364\"/>\n     <use style=\"fill:#0000ff;stroke:#0000ff;\" x=\"208.159711\" xlink:href=\"#m4d114344a3\" y=\"214.756364\"/>\n     <use style=\"fill:#0000ff;stroke:#0000ff;\" x=\"152.820868\" xlink:href=\"#m4d114344a3\" y=\"214.756364\"/>\n     <use style=\"fill:#0000ff;stroke:#0000ff;\" x=\"152.820868\" xlink:href=\"#m4d114344a3\" y=\"214.756364\"/>\n     <use style=\"fill:#0000ff;stroke:#0000ff;\" x=\"152.820868\" xlink:href=\"#m4d114344a3\" y=\"214.756364\"/>\n     <use style=\"fill:#0000ff;stroke:#0000ff;\" x=\"125.151446\" xlink:href=\"#m4d114344a3\" y=\"214.756364\"/>\n     <use style=\"fill:#0000ff;stroke:#0000ff;\" x=\"208.159711\" xlink:href=\"#m4d114344a3\" y=\"214.756364\"/>\n     <use style=\"fill:#0000ff;stroke:#0000ff;\" x=\"208.159711\" xlink:href=\"#m4d114344a3\" y=\"214.756364\"/>\n     <use style=\"fill:#0000ff;stroke:#0000ff;\" x=\"180.490289\" xlink:href=\"#m4d114344a3\" y=\"194.989091\"/>\n     <use style=\"fill:#0000ff;stroke:#0000ff;\" x=\"152.820868\" xlink:href=\"#m4d114344a3\" y=\"194.989091\"/>\n     <use style=\"fill:#0000ff;stroke:#0000ff;\" x=\"152.820868\" xlink:href=\"#m4d114344a3\" y=\"194.989091\"/>\n     <use style=\"fill:#0000ff;stroke:#0000ff;\" x=\"152.820868\" xlink:href=\"#m4d114344a3\" y=\"194.989091\"/>\n     <use style=\"fill:#0000ff;stroke:#0000ff;\" x=\"125.151446\" xlink:href=\"#m4d114344a3\" y=\"194.989091\"/>\n     <use style=\"fill:#0000ff;stroke:#0000ff;\" x=\"180.490289\" xlink:href=\"#m4d114344a3\" y=\"194.989091\"/>\n     <use style=\"fill:#0000ff;stroke:#0000ff;\" x=\"125.151446\" xlink:href=\"#m4d114344a3\" y=\"194.989091\"/>\n     <use style=\"fill:#0000ff;stroke:#0000ff;\" x=\"97.482025\" xlink:href=\"#m4d114344a3\" y=\"194.989091\"/>\n     <use style=\"fill:#0000ff;stroke:#0000ff;\" x=\"180.490289\" xlink:href=\"#m4d114344a3\" y=\"194.989091\"/>\n     <use style=\"fill:#0000ff;stroke:#0000ff;\" x=\"180.490289\" xlink:href=\"#m4d114344a3\" y=\"194.989091\"/>\n     <use style=\"fill:#0000ff;stroke:#0000ff;\" x=\"180.490289\" xlink:href=\"#m4d114344a3\" y=\"194.989091\"/>\n     <use style=\"fill:#0000ff;stroke:#0000ff;\" x=\"180.490289\" xlink:href=\"#m4d114344a3\" y=\"194.989091\"/>\n     <use style=\"fill:#0000ff;stroke:#0000ff;\" x=\"152.820868\" xlink:href=\"#m4d114344a3\" y=\"194.989091\"/>\n     <use style=\"fill:#0000ff;stroke:#0000ff;\" x=\"152.820868\" xlink:href=\"#m4d114344a3\" y=\"194.989091\"/>\n     <use style=\"fill:#0000ff;stroke:#0000ff;\" x=\"152.820868\" xlink:href=\"#m4d114344a3\" y=\"194.989091\"/>\n     <use style=\"fill:#0000ff;stroke:#0000ff;\" x=\"152.820868\" xlink:href=\"#m4d114344a3\" y=\"194.989091\"/>\n     <use style=\"fill:#0000ff;stroke:#0000ff;\" x=\"125.151446\" xlink:href=\"#m4d114344a3\" y=\"194.989091\"/>\n     <use style=\"fill:#0000ff;stroke:#0000ff;\" x=\"180.490289\" xlink:href=\"#m4d114344a3\" y=\"194.989091\"/>\n     <use style=\"fill:#0000ff;stroke:#0000ff;\" x=\"291.167975\" xlink:href=\"#m4d114344a3\" y=\"194.989091\"/>\n     <use style=\"fill:#0000ff;stroke:#0000ff;\" x=\"125.151446\" xlink:href=\"#m4d114344a3\" y=\"194.989091\"/>\n     <use style=\"fill:#0000ff;stroke:#0000ff;\" x=\"42.143182\" xlink:href=\"#m4d114344a3\" y=\"194.989091\"/>\n     <use style=\"fill:#0000ff;stroke:#0000ff;\" x=\"42.143182\" xlink:href=\"#m4d114344a3\" y=\"194.989091\"/>\n     <use style=\"fill:#0000ff;stroke:#0000ff;\" x=\"42.143182\" xlink:href=\"#m4d114344a3\" y=\"194.989091\"/>\n     <use style=\"fill:#0000ff;stroke:#0000ff;\" x=\"180.490289\" xlink:href=\"#m4d114344a3\" y=\"194.989091\"/>\n     <use style=\"fill:#0000ff;stroke:#0000ff;\" x=\"180.490289\" xlink:href=\"#m4d114344a3\" y=\"194.989091\"/>\n     <use style=\"fill:#0000ff;stroke:#0000ff;\" x=\"180.490289\" xlink:href=\"#m4d114344a3\" y=\"194.989091\"/>\n     <use style=\"fill:#0000ff;stroke:#0000ff;\" x=\"125.151446\" xlink:href=\"#m4d114344a3\" y=\"194.989091\"/>\n     <use style=\"fill:#0000ff;stroke:#0000ff;\" x=\"125.151446\" xlink:href=\"#m4d114344a3\" y=\"194.989091\"/>\n     <use style=\"fill:#0000ff;stroke:#0000ff;\" x=\"152.820868\" xlink:href=\"#m4d114344a3\" y=\"194.989091\"/>\n     <use style=\"fill:#0000ff;stroke:#0000ff;\" x=\"263.498554\" xlink:href=\"#m4d114344a3\" y=\"194.989091\"/>\n     <use style=\"fill:#0000ff;stroke:#0000ff;\" x=\"152.820868\" xlink:href=\"#m4d114344a3\" y=\"194.989091\"/>\n     <use style=\"fill:#0000ff;stroke:#0000ff;\" x=\"263.498554\" xlink:href=\"#m4d114344a3\" y=\"194.989091\"/>\n     <use style=\"fill:#0000ff;stroke:#0000ff;\" x=\"263.498554\" xlink:href=\"#m4d114344a3\" y=\"194.989091\"/>\n     <use style=\"fill:#0000ff;stroke:#0000ff;\" x=\"152.820868\" xlink:href=\"#m4d114344a3\" y=\"194.989091\"/>\n     <use style=\"fill:#0000ff;stroke:#0000ff;\" x=\"291.167975\" xlink:href=\"#m4d114344a3\" y=\"194.989091\"/>\n     <use style=\"fill:#0000ff;stroke:#0000ff;\" x=\"125.151446\" xlink:href=\"#m4d114344a3\" y=\"194.989091\"/>\n     <use style=\"fill:#0000ff;stroke:#0000ff;\" x=\"180.490289\" xlink:href=\"#m4d114344a3\" y=\"175.221818\"/>\n     <use style=\"fill:#0000ff;stroke:#0000ff;\" x=\"180.490289\" xlink:href=\"#m4d114344a3\" y=\"175.221818\"/>\n     <use style=\"fill:#0000ff;stroke:#0000ff;\" x=\"125.151446\" xlink:href=\"#m4d114344a3\" y=\"175.221818\"/>\n     <use style=\"fill:#0000ff;stroke:#0000ff;\" x=\"180.490289\" xlink:href=\"#m4d114344a3\" y=\"175.221818\"/>\n     <use style=\"fill:#0000ff;stroke:#0000ff;\" x=\"180.490289\" xlink:href=\"#m4d114344a3\" y=\"175.221818\"/>\n     <use style=\"fill:#0000ff;stroke:#0000ff;\" x=\"180.490289\" xlink:href=\"#m4d114344a3\" y=\"175.221818\"/>\n     <use style=\"fill:#0000ff;stroke:#0000ff;\" x=\"318.837397\" xlink:href=\"#m4d114344a3\" y=\"175.221818\"/>\n     <use style=\"fill:#0000ff;stroke:#0000ff;\" x=\"125.151446\" xlink:href=\"#m4d114344a3\" y=\"175.221818\"/>\n     <use style=\"fill:#0000ff;stroke:#0000ff;\" x=\"152.820868\" xlink:href=\"#m4d114344a3\" y=\"175.221818\"/>\n     <use style=\"fill:#0000ff;stroke:#0000ff;\" x=\"263.498554\" xlink:href=\"#m4d114344a3\" y=\"175.221818\"/>\n     <use style=\"fill:#0000ff;stroke:#0000ff;\" x=\"180.490289\" xlink:href=\"#m4d114344a3\" y=\"175.221818\"/>\n     <use style=\"fill:#0000ff;stroke:#0000ff;\" x=\"318.837397\" xlink:href=\"#m4d114344a3\" y=\"175.221818\"/>\n     <use style=\"fill:#0000ff;stroke:#0000ff;\" x=\"318.837397\" xlink:href=\"#m4d114344a3\" y=\"175.221818\"/>\n     <use style=\"fill:#0000ff;stroke:#0000ff;\" x=\"180.490289\" xlink:href=\"#m4d114344a3\" y=\"175.221818\"/>\n     <use style=\"fill:#0000ff;stroke:#0000ff;\" x=\"180.490289\" xlink:href=\"#m4d114344a3\" y=\"175.221818\"/>\n     <use style=\"fill:#0000ff;stroke:#0000ff;\" x=\"263.498554\" xlink:href=\"#m4d114344a3\" y=\"175.221818\"/>\n     <use style=\"fill:#0000ff;stroke:#0000ff;\" x=\"291.167975\" xlink:href=\"#m4d114344a3\" y=\"175.221818\"/>\n     <use style=\"fill:#0000ff;stroke:#0000ff;\" x=\"152.820868\" xlink:href=\"#m4d114344a3\" y=\"175.221818\"/>\n     <use style=\"fill:#0000ff;stroke:#0000ff;\" x=\"291.167975\" xlink:href=\"#m4d114344a3\" y=\"175.221818\"/>\n     <use style=\"fill:#0000ff;stroke:#0000ff;\" x=\"208.159711\" xlink:href=\"#m4d114344a3\" y=\"175.221818\"/>\n     <use style=\"fill:#0000ff;stroke:#0000ff;\" x=\"263.498554\" xlink:href=\"#m4d114344a3\" y=\"175.221818\"/>\n     <use style=\"fill:#0000ff;stroke:#0000ff;\" x=\"208.159711\" xlink:href=\"#m4d114344a3\" y=\"175.221818\"/>\n     <use style=\"fill:#0000ff;stroke:#0000ff;\" x=\"263.498554\" xlink:href=\"#m4d114344a3\" y=\"175.221818\"/>\n     <use style=\"fill:#0000ff;stroke:#0000ff;\" x=\"208.159711\" xlink:href=\"#m4d114344a3\" y=\"175.221818\"/>\n     <use style=\"fill:#0000ff;stroke:#0000ff;\" x=\"208.159711\" xlink:href=\"#m4d114344a3\" y=\"175.221818\"/>\n     <use style=\"fill:#0000ff;stroke:#0000ff;\" x=\"152.820868\" xlink:href=\"#m4d114344a3\" y=\"175.221818\"/>\n     <use style=\"fill:#0000ff;stroke:#0000ff;\" x=\"125.151446\" xlink:href=\"#m4d114344a3\" y=\"175.221818\"/>\n     <use style=\"fill:#0000ff;stroke:#0000ff;\" x=\"125.151446\" xlink:href=\"#m4d114344a3\" y=\"175.221818\"/>\n     <use style=\"fill:#0000ff;stroke:#0000ff;\" x=\"152.820868\" xlink:href=\"#m4d114344a3\" y=\"175.221818\"/>\n     <use style=\"fill:#0000ff;stroke:#0000ff;\" x=\"97.482025\" xlink:href=\"#m4d114344a3\" y=\"175.221818\"/>\n     <use style=\"fill:#0000ff;stroke:#0000ff;\" x=\"152.820868\" xlink:href=\"#m4d114344a3\" y=\"175.221818\"/>\n     <use style=\"fill:#0000ff;stroke:#0000ff;\" x=\"318.837397\" xlink:href=\"#m4d114344a3\" y=\"175.221818\"/>\n     <use style=\"fill:#0000ff;stroke:#0000ff;\" x=\"263.498554\" xlink:href=\"#m4d114344a3\" y=\"175.221818\"/>\n     <use style=\"fill:#0000ff;stroke:#0000ff;\" x=\"180.490289\" xlink:href=\"#m4d114344a3\" y=\"175.221818\"/>\n     <use style=\"fill:#0000ff;stroke:#0000ff;\" x=\"180.490289\" xlink:href=\"#m4d114344a3\" y=\"175.221818\"/>\n     <use style=\"fill:#0000ff;stroke:#0000ff;\" x=\"263.498554\" xlink:href=\"#m4d114344a3\" y=\"175.221818\"/>\n     <use style=\"fill:#0000ff;stroke:#0000ff;\" x=\"180.490289\" xlink:href=\"#m4d114344a3\" y=\"175.221818\"/>\n     <use style=\"fill:#0000ff;stroke:#0000ff;\" x=\"125.151446\" xlink:href=\"#m4d114344a3\" y=\"175.221818\"/>\n     <use style=\"fill:#0000ff;stroke:#0000ff;\" x=\"180.490289\" xlink:href=\"#m4d114344a3\" y=\"175.221818\"/>\n     <use style=\"fill:#0000ff;stroke:#0000ff;\" x=\"180.490289\" xlink:href=\"#m4d114344a3\" y=\"175.221818\"/>\n     <use style=\"fill:#0000ff;stroke:#0000ff;\" x=\"263.498554\" xlink:href=\"#m4d114344a3\" y=\"175.221818\"/>\n     <use style=\"fill:#0000ff;stroke:#0000ff;\" x=\"152.820868\" xlink:href=\"#m4d114344a3\" y=\"175.221818\"/>\n     <use style=\"fill:#0000ff;stroke:#0000ff;\" x=\"208.159711\" xlink:href=\"#m4d114344a3\" y=\"175.221818\"/>\n     <use style=\"fill:#0000ff;stroke:#0000ff;\" x=\"152.820868\" xlink:href=\"#m4d114344a3\" y=\"175.221818\"/>\n     <use style=\"fill:#0000ff;stroke:#0000ff;\" x=\"208.159711\" xlink:href=\"#m4d114344a3\" y=\"155.454545\"/>\n     <use style=\"fill:#0000ff;stroke:#0000ff;\" x=\"208.159711\" xlink:href=\"#m4d114344a3\" y=\"155.454545\"/>\n     <use style=\"fill:#0000ff;stroke:#0000ff;\" x=\"291.167975\" xlink:href=\"#m4d114344a3\" y=\"155.454545\"/>\n     <use style=\"fill:#0000ff;stroke:#0000ff;\" x=\"263.498554\" xlink:href=\"#m4d114344a3\" y=\"155.454545\"/>\n     <use style=\"fill:#0000ff;stroke:#0000ff;\" x=\"291.167975\" xlink:href=\"#m4d114344a3\" y=\"155.454545\"/>\n     <use style=\"fill:#0000ff;stroke:#0000ff;\" x=\"180.490289\" xlink:href=\"#m4d114344a3\" y=\"155.454545\"/>\n     <use style=\"fill:#0000ff;stroke:#0000ff;\" x=\"235.829132\" xlink:href=\"#m4d114344a3\" y=\"155.454545\"/>\n     <use style=\"fill:#0000ff;stroke:#0000ff;\" x=\"208.159711\" xlink:href=\"#m4d114344a3\" y=\"155.454545\"/>\n     <use style=\"fill:#0000ff;stroke:#0000ff;\" x=\"152.820868\" xlink:href=\"#m4d114344a3\" y=\"155.454545\"/>\n     <use style=\"fill:#0000ff;stroke:#0000ff;\" x=\"291.167975\" xlink:href=\"#m4d114344a3\" y=\"155.454545\"/>\n     <use style=\"fill:#0000ff;stroke:#0000ff;\" x=\"152.820868\" xlink:href=\"#m4d114344a3\" y=\"155.454545\"/>\n     <use style=\"fill:#0000ff;stroke:#0000ff;\" x=\"180.490289\" xlink:href=\"#m4d114344a3\" y=\"155.454545\"/>\n     <use style=\"fill:#0000ff;stroke:#0000ff;\" x=\"180.490289\" xlink:href=\"#m4d114344a3\" y=\"155.454545\"/>\n     <use style=\"fill:#0000ff;stroke:#0000ff;\" x=\"180.490289\" xlink:href=\"#m4d114344a3\" y=\"155.454545\"/>\n     <use style=\"fill:#0000ff;stroke:#0000ff;\" x=\"125.151446\" xlink:href=\"#m4d114344a3\" y=\"155.454545\"/>\n     <use style=\"fill:#0000ff;stroke:#0000ff;\" x=\"97.482025\" xlink:href=\"#m4d114344a3\" y=\"155.454545\"/>\n     <use style=\"fill:#0000ff;stroke:#0000ff;\" x=\"97.482025\" xlink:href=\"#m4d114344a3\" y=\"155.454545\"/>\n     <use style=\"fill:#0000ff;stroke:#0000ff;\" x=\"180.490289\" xlink:href=\"#m4d114344a3\" y=\"155.454545\"/>\n     <use style=\"fill:#0000ff;stroke:#0000ff;\" x=\"291.167975\" xlink:href=\"#m4d114344a3\" y=\"155.454545\"/>\n     <use style=\"fill:#0000ff;stroke:#0000ff;\" x=\"208.159711\" xlink:href=\"#m4d114344a3\" y=\"155.454545\"/>\n     <use style=\"fill:#0000ff;stroke:#0000ff;\" x=\"235.829132\" xlink:href=\"#m4d114344a3\" y=\"155.454545\"/>\n     <use style=\"fill:#0000ff;stroke:#0000ff;\" x=\"208.159711\" xlink:href=\"#m4d114344a3\" y=\"155.454545\"/>\n     <use style=\"fill:#0000ff;stroke:#0000ff;\" x=\"208.159711\" xlink:href=\"#m4d114344a3\" y=\"155.454545\"/>\n     <use style=\"fill:#0000ff;stroke:#0000ff;\" x=\"291.167975\" xlink:href=\"#m4d114344a3\" y=\"155.454545\"/>\n     <use style=\"fill:#0000ff;stroke:#0000ff;\" x=\"97.482025\" xlink:href=\"#m4d114344a3\" y=\"155.454545\"/>\n     <use style=\"fill:#0000ff;stroke:#0000ff;\" x=\"180.490289\" xlink:href=\"#m4d114344a3\" y=\"155.454545\"/>\n     <use style=\"fill:#0000ff;stroke:#0000ff;\" x=\"152.820868\" xlink:href=\"#m4d114344a3\" y=\"155.454545\"/>\n     <use style=\"fill:#0000ff;stroke:#0000ff;\" x=\"97.482025\" xlink:href=\"#m4d114344a3\" y=\"155.454545\"/>\n     <use style=\"fill:#0000ff;stroke:#0000ff;\" x=\"208.159711\" xlink:href=\"#m4d114344a3\" y=\"155.454545\"/>\n     <use style=\"fill:#0000ff;stroke:#0000ff;\" x=\"152.820868\" xlink:href=\"#m4d114344a3\" y=\"155.454545\"/>\n     <use style=\"fill:#0000ff;stroke:#0000ff;\" x=\"152.820868\" xlink:href=\"#m4d114344a3\" y=\"155.454545\"/>\n     <use style=\"fill:#0000ff;stroke:#0000ff;\" x=\"180.490289\" xlink:href=\"#m4d114344a3\" y=\"155.454545\"/>\n     <use style=\"fill:#0000ff;stroke:#0000ff;\" x=\"180.490289\" xlink:href=\"#m4d114344a3\" y=\"155.454545\"/>\n     <use style=\"fill:#0000ff;stroke:#0000ff;\" x=\"152.820868\" xlink:href=\"#m4d114344a3\" y=\"155.454545\"/>\n     <use style=\"fill:#0000ff;stroke:#0000ff;\" x=\"180.490289\" xlink:href=\"#m4d114344a3\" y=\"155.454545\"/>\n     <use style=\"fill:#0000ff;stroke:#0000ff;\" x=\"125.151446\" xlink:href=\"#m4d114344a3\" y=\"155.454545\"/>\n     <use style=\"fill:#0000ff;stroke:#0000ff;\" x=\"97.482025\" xlink:href=\"#m4d114344a3\" y=\"155.454545\"/>\n     <use style=\"fill:#0000ff;stroke:#0000ff;\" x=\"180.490289\" xlink:href=\"#m4d114344a3\" y=\"135.687273\"/>\n     <use style=\"fill:#0000ff;stroke:#0000ff;\" x=\"263.498554\" xlink:href=\"#m4d114344a3\" y=\"135.687273\"/>\n     <use style=\"fill:#0000ff;stroke:#0000ff;\" x=\"180.490289\" xlink:href=\"#m4d114344a3\" y=\"135.687273\"/>\n     <use style=\"fill:#0000ff;stroke:#0000ff;\" x=\"180.490289\" xlink:href=\"#m4d114344a3\" y=\"135.687273\"/>\n     <use style=\"fill:#0000ff;stroke:#0000ff;\" x=\"180.490289\" xlink:href=\"#m4d114344a3\" y=\"135.687273\"/>\n     <use style=\"fill:#0000ff;stroke:#0000ff;\" x=\"291.167975\" xlink:href=\"#m4d114344a3\" y=\"135.687273\"/>\n     <use style=\"fill:#0000ff;stroke:#0000ff;\" x=\"180.490289\" xlink:href=\"#m4d114344a3\" y=\"135.687273\"/>\n     <use style=\"fill:#0000ff;stroke:#0000ff;\" x=\"263.498554\" xlink:href=\"#m4d114344a3\" y=\"135.687273\"/>\n     <use style=\"fill:#0000ff;stroke:#0000ff;\" x=\"180.490289\" xlink:href=\"#m4d114344a3\" y=\"135.687273\"/>\n     <use style=\"fill:#0000ff;stroke:#0000ff;\" x=\"180.490289\" xlink:href=\"#m4d114344a3\" y=\"135.687273\"/>\n     <use style=\"fill:#0000ff;stroke:#0000ff;\" x=\"235.829132\" xlink:href=\"#m4d114344a3\" y=\"135.687273\"/>\n     <use style=\"fill:#0000ff;stroke:#0000ff;\" x=\"263.498554\" xlink:href=\"#m4d114344a3\" y=\"135.687273\"/>\n     <use style=\"fill:#0000ff;stroke:#0000ff;\" x=\"180.490289\" xlink:href=\"#m4d114344a3\" y=\"135.687273\"/>\n     <use style=\"fill:#0000ff;stroke:#0000ff;\" x=\"208.159711\" xlink:href=\"#m4d114344a3\" y=\"135.687273\"/>\n     <use style=\"fill:#0000ff;stroke:#0000ff;\" x=\"318.837397\" xlink:href=\"#m4d114344a3\" y=\"135.687273\"/>\n     <use style=\"fill:#0000ff;stroke:#0000ff;\" x=\"208.159711\" xlink:href=\"#m4d114344a3\" y=\"135.687273\"/>\n     <use style=\"fill:#0000ff;stroke:#0000ff;\" x=\"180.490289\" xlink:href=\"#m4d114344a3\" y=\"115.92\"/>\n     <use style=\"fill:#0000ff;stroke:#0000ff;\" x=\"180.490289\" xlink:href=\"#m4d114344a3\" y=\"115.92\"/>\n     <use style=\"fill:#0000ff;stroke:#0000ff;\" x=\"263.498554\" xlink:href=\"#m4d114344a3\" y=\"115.92\"/>\n     <use style=\"fill:#0000ff;stroke:#0000ff;\" x=\"318.837397\" xlink:href=\"#m4d114344a3\" y=\"115.92\"/>\n     <use style=\"fill:#0000ff;stroke:#0000ff;\" x=\"291.167975\" xlink:href=\"#m4d114344a3\" y=\"115.92\"/>\n     <use style=\"fill:#0000ff;stroke:#0000ff;\" x=\"263.498554\" xlink:href=\"#m4d114344a3\" y=\"115.92\"/>\n     <use style=\"fill:#0000ff;stroke:#0000ff;\" x=\"235.829132\" xlink:href=\"#m4d114344a3\" y=\"115.92\"/>\n     <use style=\"fill:#0000ff;stroke:#0000ff;\" x=\"263.498554\" xlink:href=\"#m4d114344a3\" y=\"115.92\"/>\n     <use style=\"fill:#0000ff;stroke:#0000ff;\" x=\"235.829132\" xlink:href=\"#m4d114344a3\" y=\"115.92\"/>\n     <use style=\"fill:#0000ff;stroke:#0000ff;\" x=\"235.829132\" xlink:href=\"#m4d114344a3\" y=\"115.92\"/>\n     <use style=\"fill:#0000ff;stroke:#0000ff;\" x=\"152.820868\" xlink:href=\"#m4d114344a3\" y=\"115.92\"/>\n     <use style=\"fill:#0000ff;stroke:#0000ff;\" x=\"208.159711\" xlink:href=\"#m4d114344a3\" y=\"115.92\"/>\n     <use style=\"fill:#0000ff;stroke:#0000ff;\" x=\"208.159711\" xlink:href=\"#m4d114344a3\" y=\"115.92\"/>\n     <use style=\"fill:#0000ff;stroke:#0000ff;\" x=\"263.498554\" xlink:href=\"#m4d114344a3\" y=\"115.92\"/>\n     <use style=\"fill:#0000ff;stroke:#0000ff;\" x=\"263.498554\" xlink:href=\"#m4d114344a3\" y=\"115.92\"/>\n     <use style=\"fill:#0000ff;stroke:#0000ff;\" x=\"263.498554\" xlink:href=\"#m4d114344a3\" y=\"115.92\"/>\n     <use style=\"fill:#0000ff;stroke:#0000ff;\" x=\"208.159711\" xlink:href=\"#m4d114344a3\" y=\"115.92\"/>\n     <use style=\"fill:#0000ff;stroke:#0000ff;\" x=\"235.829132\" xlink:href=\"#m4d114344a3\" y=\"115.92\"/>\n     <use style=\"fill:#0000ff;stroke:#0000ff;\" x=\"291.167975\" xlink:href=\"#m4d114344a3\" y=\"115.92\"/>\n     <use style=\"fill:#0000ff;stroke:#0000ff;\" x=\"263.498554\" xlink:href=\"#m4d114344a3\" y=\"115.92\"/>\n     <use style=\"fill:#0000ff;stroke:#0000ff;\" x=\"291.167975\" xlink:href=\"#m4d114344a3\" y=\"115.92\"/>\n     <use style=\"fill:#0000ff;stroke:#0000ff;\" x=\"152.820868\" xlink:href=\"#m4d114344a3\" y=\"115.92\"/>\n     <use style=\"fill:#0000ff;stroke:#0000ff;\" x=\"318.837397\" xlink:href=\"#m4d114344a3\" y=\"115.92\"/>\n     <use style=\"fill:#0000ff;stroke:#0000ff;\" x=\"235.829132\" xlink:href=\"#m4d114344a3\" y=\"115.92\"/>\n     <use style=\"fill:#0000ff;stroke:#0000ff;\" x=\"291.167975\" xlink:href=\"#m4d114344a3\" y=\"115.92\"/>\n     <use style=\"fill:#0000ff;stroke:#0000ff;\" x=\"208.159711\" xlink:href=\"#m4d114344a3\" y=\"115.92\"/>\n     <use style=\"fill:#0000ff;stroke:#0000ff;\" x=\"180.490289\" xlink:href=\"#m4d114344a3\" y=\"115.92\"/>\n     <use style=\"fill:#0000ff;stroke:#0000ff;\" x=\"208.159711\" xlink:href=\"#m4d114344a3\" y=\"115.92\"/>\n     <use style=\"fill:#0000ff;stroke:#0000ff;\" x=\"291.167975\" xlink:href=\"#m4d114344a3\" y=\"115.92\"/>\n     <use style=\"fill:#0000ff;stroke:#0000ff;\" x=\"263.498554\" xlink:href=\"#m4d114344a3\" y=\"115.92\"/>\n     <use style=\"fill:#0000ff;stroke:#0000ff;\" x=\"235.829132\" xlink:href=\"#m4d114344a3\" y=\"115.92\"/>\n     <use style=\"fill:#0000ff;stroke:#0000ff;\" x=\"235.829132\" xlink:href=\"#m4d114344a3\" y=\"115.92\"/>\n     <use style=\"fill:#0000ff;stroke:#0000ff;\" x=\"263.498554\" xlink:href=\"#m4d114344a3\" y=\"115.92\"/>\n     <use style=\"fill:#0000ff;stroke:#0000ff;\" x=\"263.498554\" xlink:href=\"#m4d114344a3\" y=\"115.92\"/>\n     <use style=\"fill:#0000ff;stroke:#0000ff;\" x=\"291.167975\" xlink:href=\"#m4d114344a3\" y=\"115.92\"/>\n     <use style=\"fill:#0000ff;stroke:#0000ff;\" x=\"235.829132\" xlink:href=\"#m4d114344a3\" y=\"115.92\"/>\n     <use style=\"fill:#0000ff;stroke:#0000ff;\" x=\"263.498554\" xlink:href=\"#m4d114344a3\" y=\"115.92\"/>\n     <use style=\"fill:#0000ff;stroke:#0000ff;\" x=\"318.837397\" xlink:href=\"#m4d114344a3\" y=\"115.92\"/>\n     <use style=\"fill:#0000ff;stroke:#0000ff;\" x=\"263.498554\" xlink:href=\"#m4d114344a3\" y=\"96.152727\"/>\n     <use style=\"fill:#0000ff;stroke:#0000ff;\" x=\"318.837397\" xlink:href=\"#m4d114344a3\" y=\"96.152727\"/>\n     <use style=\"fill:#0000ff;stroke:#0000ff;\" x=\"152.820868\" xlink:href=\"#m4d114344a3\" y=\"96.152727\"/>\n     <use style=\"fill:#0000ff;stroke:#0000ff;\" x=\"291.167975\" xlink:href=\"#m4d114344a3\" y=\"96.152727\"/>\n     <use style=\"fill:#0000ff;stroke:#0000ff;\" x=\"235.829132\" xlink:href=\"#m4d114344a3\" y=\"96.152727\"/>\n     <use style=\"fill:#0000ff;stroke:#0000ff;\" x=\"235.829132\" xlink:href=\"#m4d114344a3\" y=\"96.152727\"/>\n     <use style=\"fill:#0000ff;stroke:#0000ff;\" x=\"180.490289\" xlink:href=\"#m4d114344a3\" y=\"96.152727\"/>\n     <use style=\"fill:#0000ff;stroke:#0000ff;\" x=\"263.498554\" xlink:href=\"#m4d114344a3\" y=\"96.152727\"/>\n     <use style=\"fill:#0000ff;stroke:#0000ff;\" x=\"263.498554\" xlink:href=\"#m4d114344a3\" y=\"96.152727\"/>\n     <use style=\"fill:#0000ff;stroke:#0000ff;\" x=\"263.498554\" xlink:href=\"#m4d114344a3\" y=\"96.152727\"/>\n     <use style=\"fill:#0000ff;stroke:#0000ff;\" x=\"180.490289\" xlink:href=\"#m4d114344a3\" y=\"96.152727\"/>\n     <use style=\"fill:#0000ff;stroke:#0000ff;\" x=\"263.498554\" xlink:href=\"#m4d114344a3\" y=\"96.152727\"/>\n     <use style=\"fill:#0000ff;stroke:#0000ff;\" x=\"235.829132\" xlink:href=\"#m4d114344a3\" y=\"96.152727\"/>\n     <use style=\"fill:#0000ff;stroke:#0000ff;\" x=\"291.167975\" xlink:href=\"#m4d114344a3\" y=\"96.152727\"/>\n     <use style=\"fill:#0000ff;stroke:#0000ff;\" x=\"263.498554\" xlink:href=\"#m4d114344a3\" y=\"96.152727\"/>\n     <use style=\"fill:#0000ff;stroke:#0000ff;\" x=\"291.167975\" xlink:href=\"#m4d114344a3\" y=\"96.152727\"/>\n     <use style=\"fill:#0000ff;stroke:#0000ff;\" x=\"263.498554\" xlink:href=\"#m4d114344a3\" y=\"96.152727\"/>\n     <use style=\"fill:#0000ff;stroke:#0000ff;\" x=\"263.498554\" xlink:href=\"#m4d114344a3\" y=\"96.152727\"/>\n     <use style=\"fill:#0000ff;stroke:#0000ff;\" x=\"208.159711\" xlink:href=\"#m4d114344a3\" y=\"96.152727\"/>\n     <use style=\"fill:#0000ff;stroke:#0000ff;\" x=\"180.490289\" xlink:href=\"#m4d114344a3\" y=\"96.152727\"/>\n     <use style=\"fill:#0000ff;stroke:#0000ff;\" x=\"263.498554\" xlink:href=\"#m4d114344a3\" y=\"96.152727\"/>\n     <use style=\"fill:#0000ff;stroke:#0000ff;\" x=\"346.506818\" xlink:href=\"#m4d114344a3\" y=\"96.152727\"/>\n     <use style=\"fill:#0000ff;stroke:#0000ff;\" x=\"346.506818\" xlink:href=\"#m4d114344a3\" y=\"96.152727\"/>\n     <use style=\"fill:#0000ff;stroke:#0000ff;\" x=\"180.490289\" xlink:href=\"#m4d114344a3\" y=\"96.152727\"/>\n     <use style=\"fill:#0000ff;stroke:#0000ff;\" x=\"152.820868\" xlink:href=\"#m4d114344a3\" y=\"96.152727\"/>\n     <use style=\"fill:#0000ff;stroke:#0000ff;\" x=\"152.820868\" xlink:href=\"#m4d114344a3\" y=\"96.152727\"/>\n     <use style=\"fill:#0000ff;stroke:#0000ff;\" x=\"263.498554\" xlink:href=\"#m4d114344a3\" y=\"96.152727\"/>\n     <use style=\"fill:#0000ff;stroke:#0000ff;\" x=\"291.167975\" xlink:href=\"#m4d114344a3\" y=\"76.385455\"/>\n     <use style=\"fill:#0000ff;stroke:#0000ff;\" x=\"235.829132\" xlink:href=\"#m4d114344a3\" y=\"76.385455\"/>\n     <use style=\"fill:#0000ff;stroke:#0000ff;\" x=\"180.490289\" xlink:href=\"#m4d114344a3\" y=\"76.385455\"/>\n     <use style=\"fill:#0000ff;stroke:#0000ff;\" x=\"208.159711\" xlink:href=\"#m4d114344a3\" y=\"76.385455\"/>\n     <use style=\"fill:#0000ff;stroke:#0000ff;\" x=\"318.837397\" xlink:href=\"#m4d114344a3\" y=\"76.385455\"/>\n     <use style=\"fill:#0000ff;stroke:#0000ff;\" x=\"263.498554\" xlink:href=\"#m4d114344a3\" y=\"56.618182\"/>\n     <use style=\"fill:#0000ff;stroke:#0000ff;\" x=\"318.837397\" xlink:href=\"#m4d114344a3\" y=\"56.618182\"/>\n     <use style=\"fill:#0000ff;stroke:#0000ff;\" x=\"291.167975\" xlink:href=\"#m4d114344a3\" y=\"56.618182\"/>\n     <use style=\"fill:#0000ff;stroke:#0000ff;\" x=\"318.837397\" xlink:href=\"#m4d114344a3\" y=\"56.618182\"/>\n     <use style=\"fill:#0000ff;stroke:#0000ff;\" x=\"235.829132\" xlink:href=\"#m4d114344a3\" y=\"56.618182\"/>\n     <use style=\"fill:#0000ff;stroke:#0000ff;\" x=\"291.167975\" xlink:href=\"#m4d114344a3\" y=\"56.618182\"/>\n     <use style=\"fill:#0000ff;stroke:#0000ff;\" x=\"235.829132\" xlink:href=\"#m4d114344a3\" y=\"56.618182\"/>\n     <use style=\"fill:#0000ff;stroke:#0000ff;\" x=\"318.837397\" xlink:href=\"#m4d114344a3\" y=\"56.618182\"/>\n     <use style=\"fill:#0000ff;stroke:#0000ff;\" x=\"318.837397\" xlink:href=\"#m4d114344a3\" y=\"56.618182\"/>\n     <use style=\"fill:#0000ff;stroke:#0000ff;\" x=\"346.506818\" xlink:href=\"#m4d114344a3\" y=\"56.618182\"/>\n     <use style=\"fill:#0000ff;stroke:#0000ff;\" x=\"318.837397\" xlink:href=\"#m4d114344a3\" y=\"56.618182\"/>\n     <use style=\"fill:#0000ff;stroke:#0000ff;\" x=\"235.829132\" xlink:href=\"#m4d114344a3\" y=\"56.618182\"/>\n     <use style=\"fill:#0000ff;stroke:#0000ff;\" x=\"318.837397\" xlink:href=\"#m4d114344a3\" y=\"56.618182\"/>\n     <use style=\"fill:#0000ff;stroke:#0000ff;\" x=\"235.829132\" xlink:href=\"#m4d114344a3\" y=\"56.618182\"/>\n     <use style=\"fill:#0000ff;stroke:#0000ff;\" x=\"263.498554\" xlink:href=\"#m4d114344a3\" y=\"36.850909\"/>\n     <use style=\"fill:#0000ff;stroke:#0000ff;\" x=\"318.837397\" xlink:href=\"#m4d114344a3\" y=\"36.850909\"/>\n     <use style=\"fill:#0000ff;stroke:#0000ff;\" x=\"208.159711\" xlink:href=\"#m4d114344a3\" y=\"36.850909\"/>\n     <use style=\"fill:#0000ff;stroke:#0000ff;\" x=\"318.837397\" xlink:href=\"#m4d114344a3\" y=\"36.850909\"/>\n     <use style=\"fill:#0000ff;stroke:#0000ff;\" x=\"318.837397\" xlink:href=\"#m4d114344a3\" y=\"36.850909\"/>\n     <use style=\"fill:#0000ff;stroke:#0000ff;\" x=\"263.498554\" xlink:href=\"#m4d114344a3\" y=\"36.850909\"/>\n     <use style=\"fill:#0000ff;stroke:#0000ff;\" x=\"263.498554\" xlink:href=\"#m4d114344a3\" y=\"36.850909\"/>\n     <use style=\"fill:#0000ff;stroke:#0000ff;\" x=\"318.837397\" xlink:href=\"#m4d114344a3\" y=\"36.850909\"/>\n     <use style=\"fill:#0000ff;stroke:#0000ff;\" x=\"346.506818\" xlink:href=\"#m4d114344a3\" y=\"36.850909\"/>\n     <use style=\"fill:#0000ff;stroke:#0000ff;\" x=\"318.837397\" xlink:href=\"#m4d114344a3\" y=\"17.083636\"/>\n     <use style=\"fill:#0000ff;stroke:#0000ff;\" x=\"318.837397\" xlink:href=\"#m4d114344a3\" y=\"17.083636\"/>\n     <use style=\"fill:#0000ff;stroke:#0000ff;\" x=\"318.837397\" xlink:href=\"#m4d114344a3\" y=\"17.083636\"/>\n     <use style=\"fill:#0000ff;stroke:#0000ff;\" x=\"318.837397\" xlink:href=\"#m4d114344a3\" y=\"17.083636\"/>\n     <use style=\"fill:#0000ff;stroke:#0000ff;\" x=\"346.506818\" xlink:href=\"#m4d114344a3\" y=\"17.083636\"/>\n     <use style=\"fill:#0000ff;stroke:#0000ff;\" x=\"263.498554\" xlink:href=\"#m4d114344a3\" y=\"17.083636\"/>\n    </g>\n   </g>\n   <g id=\"patch_3\">\n    <path d=\"M 26.925 224.64 \nL 26.925 7.2 \n\" style=\"fill:none;stroke:#000000;stroke-linecap:square;stroke-linejoin:miter;stroke-width:0.8;\"/>\n   </g>\n   <g id=\"patch_4\">\n    <path d=\"M 361.725 224.64 \nL 361.725 7.2 \n\" style=\"fill:none;stroke:#000000;stroke-linecap:square;stroke-linejoin:miter;stroke-width:0.8;\"/>\n   </g>\n   <g id=\"patch_5\">\n    <path d=\"M 26.925 224.64 \nL 361.725 224.64 \n\" style=\"fill:none;stroke:#000000;stroke-linecap:square;stroke-linejoin:miter;stroke-width:0.8;\"/>\n   </g>\n   <g id=\"patch_6\">\n    <path d=\"M 26.925 7.2 \nL 361.725 7.2 \n\" style=\"fill:none;stroke:#000000;stroke-linecap:square;stroke-linejoin:miter;stroke-width:0.8;\"/>\n   </g>\n  </g>\n </g>\n <defs>\n  <clipPath id=\"p5dda2cd21e\">\n   <rect height=\"217.44\" width=\"334.8\" x=\"26.925\" y=\"7.2\"/>\n  </clipPath>\n </defs>\n</svg>\n",
      "image/png": "[encoded data removed]"
     },
     "metadata": {
      "needs_background": "light"
     }
    }
   ],
   "source": [
    "plt.plot(vv_cut['points'], vv_cut['price'], 'b.')\n",
    "plt.show()"
   ]
  },
  {
   "cell_type": "code",
   "execution_count": 25,
   "metadata": {},
   "outputs": [],
   "source": [
    "vv_cut = vv_cut.sample(frac=1, random_state=42).reset_index(drop=True)\n",
    "sc=StandardScaler()\n",
    "vv_cut['points']=sc.fit_transform((vv_cut['points']).values.reshape(-1,1))\n",
    "X=np.c_[(vv_cut.iloc[:,-4:], vv_cut['points'])]\n",
    "y=vv_cut['price']\n",
    "#Ready for regression"
   ]
  },
  {
   "cell_type": "code",
   "execution_count": 34,
   "metadata": {},
   "outputs": [],
   "source": [
    "Xtrain, Xtest, ytrain, ytest = train_test_split(X, y, random_state=1)"
   ]
  },
  {
   "cell_type": "code",
   "execution_count": 35,
   "metadata": {},
   "outputs": [
    {
     "output_type": "stream",
     "name": "stdout",
     "text": [
      "[-0.17003368 -1.23992915 -2.45615129 -0.79806017  1.61625318] 12.78240361610418\n0.2993683211683207\n                            OLS Regression Results                            \n==============================================================================\nDep. Variable:                  price   R-squared:                       0.515\nModel:                            OLS   Adj. R-squared:                  0.501\nMethod:                 Least Squares   F-statistic:                     38.20\nDate:                Thu, 17 Dec 2020   Prob (F-statistic):           1.33e-26\nTime:                        10:41:04   Log-Likelihood:                -374.66\nNo. Observations:                 186   AIC:                             761.3\nDf Residuals:                     180   BIC:                             780.7\nDf Model:                           5                                         \nCovariance Type:            nonrobust                                         \n==============================================================================\n                 coef    std err          t      P>|t|      [0.025      0.975]\n------------------------------------------------------------------------------\nconst         12.7824      0.697     18.336      0.000      11.407      14.158\nx1            -0.1700      0.855     -0.199      0.843      -1.856       1.516\nx2            -1.2399      0.854     -1.453      0.148      -2.924       0.444\nx3            -2.4562      0.716     -3.428      0.001      -3.870      -1.043\nx4            -0.7981      0.799     -0.998      0.320      -2.376       0.780\nx5             1.6163      0.152     10.645      0.000       1.317       1.916\n==============================================================================\nOmnibus:                        2.024   Durbin-Watson:                   1.919\nProb(Omnibus):                  0.363   Jarque-Bera (JB):                1.649\nSkew:                           0.145   Prob(JB):                        0.439\nKurtosis:                       3.358   Cond. No.                         14.7\n==============================================================================\n\nNotes:\n[1] Standard Errors assume that the covariance matrix of the errors is correctly specified.\n"
     ]
    }
   ],
   "source": [
    "#Linear Regression\n",
    "from sklearn.linear_model import LinearRegression\n",
    "regressor=LinearRegression()\n",
    "regressor.fit(Xtrain,ytrain)\n",
    "print(regressor.coef_, regressor.intercept_)\n",
    "print(regressor.score(Xtest,ytest))\n",
    "Xtrain = np.append (arr=np.ones([Xtrain.shape[0],1]).astype(int), values = Xtrain, axis = 1)\n",
    "Xtest = np.append (arr=np.ones([Xtest.shape[0],1]).astype(int), values = Xtest, axis = 1)\n",
    "import statsmodels.api as sm\n",
    "X_opt = [0,1,2,3,4,5]\n",
    "regressor = sm.OLS(ytrain, Xtrain[:,X_opt]).fit()\n",
    "print(regressor.summary())\n",
    "#Result of OLS: higher quality implies higher price; \"Loureiro\" and \"Portuguese White\" wine is generally cheaper; no statistical significance for the other two categories"
   ]
  },
  {
   "cell_type": "code",
   "execution_count": 13,
   "metadata": {},
   "outputs": [
    {
     "output_type": "execute_result",
     "data": {
      "text/plain": [
       "array([[ 0.        ,  0.        ,  1.        ,  0.        , -0.55095272],\n",
       "       [ 0.        ,  0.        ,  1.        ,  0.        , -0.97137203],\n",
       "       [ 0.        ,  0.        ,  1.        ,  0.        ,  0.7103052 ],\n",
       "       ...,\n",
       "       [ 0.        ,  1.        ,  0.        ,  0.        ,  0.7103052 ],\n",
       "       [ 0.        ,  0.        ,  1.        ,  0.        ,  0.28988589],\n",
       "       [ 0.        ,  0.        ,  1.        ,  0.        ,  0.28988589]])"
      ]
     },
     "metadata": {},
     "execution_count": 13
    }
   ],
   "source": [
    "X"
   ]
  },
  {
   "cell_type": "code",
   "execution_count": 37,
   "metadata": {},
   "outputs": [
    {
     "output_type": "stream",
     "name": "stdout",
     "text": [
      "                            OLS Regression Results                            \n==============================================================================\nDep. Variable:                  price   R-squared:                       0.363\nModel:                            OLS   Adj. R-squared:                  0.356\nMethod:                 Least Squares   F-statistic:                     55.54\nDate:                Thu, 17 Dec 2020   Prob (F-statistic):           8.12e-20\nTime:                        11:29:51   Log-Likelihood:                -417.97\nNo. Observations:                 198   AIC:                             841.9\nDf Residuals:                     195   BIC:                             851.8\nDf Model:                           2                                         \nCovariance Type:            nonrobust                                         \n==============================================================================\n                 coef    std err          t      P>|t|      [0.025      0.975]\n------------------------------------------------------------------------------\nconst         10.5110      0.191     55.092      0.000      10.135      10.887\nx1             1.4602      0.142     10.296      0.000       1.181       1.740\nx2             0.2741      0.124      2.212      0.028       0.030       0.519\n==============================================================================\nOmnibus:                        0.950   Durbin-Watson:                   1.977\nProb(Omnibus):                  0.622   Jarque-Bera (JB):                0.873\nSkew:                           0.162   Prob(JB):                        0.646\nKurtosis:                       2.978   Cond. No.                         2.52\n==============================================================================\n\nNotes:\n[1] Standard Errors assume that the covariance matrix of the errors is correctly specified.\n"
     ]
    }
   ],
   "source": [
    "#Polynomial Regression\n",
    "from sklearn.preprocessing import PolynomialFeatures\n",
    "poly_reg=PolynomialFeatures(degree=2)\n",
    "X_poly=poly_reg.fit_transform(X)\n",
    "#print(X_poly)\n",
    "X_train, X_test, y_train, y_test = train_test_split(X_poly, y, test_size = 0.2)\n",
    "#regressor=LinearRegression()\n",
    "#regressor.fit(X_train,y_train)\n",
    "#print(regressor.score(X_test,y_test))\n",
    "#X_train = np.append (arr=np.ones([X_train.shape[0],1]).astype(int), values = X_train, axis = 1)\n",
    "X_opt = [0,5,20] #Is... plus quality and quality^2\n",
    "regressor = sm.OLS(y_train, X_train[:,X_opt]).fit()\n",
    "print(regressor.summary())\n",
    "#print(X_opt)\n",
    "#Same insights as with linear regression. Slight upwards quadratic trend in prices, only statistically significant when the wine variety variables are taken away.\n"
   ]
  },
  {
   "cell_type": "code",
   "execution_count": 15,
   "metadata": {},
   "outputs": [
    {
     "output_type": "execute_result",
     "data": {
      "text/plain": [
       "array([ 1.        ,  0.        ,  0.        ,  0.        ,  1.        ,\n",
       "       -0.55095272,  0.        ,  0.        ,  0.        ,  0.        ,\n",
       "       -0.        ,  0.        ,  0.        ,  0.        , -0.        ,\n",
       "        0.        ,  0.        , -0.        ,  1.        , -0.55095272,\n",
       "        0.3035489 ])"
      ]
     },
     "metadata": {},
     "execution_count": 15
    }
   ],
   "source": [
    "X_train[1,:]"
   ]
  },
  {
   "cell_type": "code",
   "execution_count": 17,
   "metadata": {},
   "outputs": [
    {
     "output_type": "stream",
     "name": "stderr",
     "text": [
      "[nltk_data] Downloading package stopwords to\n",
      "[nltk_data]     /Users/Eugenio/nltk_data...\n",
      "[nltk_data]   Package stopwords is already up-to-date!\n"
     ]
    }
   ],
   "source": [
    "#NLP for the wine reviews. First full database:\n",
    "# Cleaning the texts\n",
    "import re\n",
    "import nltk\n",
    "nltk.download('stopwords')\n",
    "from nltk.corpus import stopwords\n",
    "from nltk.stem.porter import PorterStemmer\n",
    "corpus = []\n",
    "for i in range(137235):\n",
    "    try:\n",
    "        review = re.sub('[^a-zA-Z]', ' ', wine_data.iloc[i]['description'])\n",
    "        review = review.lower()\n",
    "        review = review.split()\n",
    "        ps = PorterStemmer()\n",
    "        review = [ps.stem(word) for word in review if not word in set(stopwords.words('english'))]\n",
    "        review = ' '.join(review)\n",
    "        corpus.append(review)\n",
    "    except:\n",
    "        print(i)\n",
    "    \n",
    "\n",
    "# Creating the Bag of Words model\n",
    "from sklearn.feature_extraction.text import CountVectorizer\n",
    "cv = CountVectorizer(max_features = 1500)\n",
    "XNlp = cv.fit_transform(corpus).toarray()\n",
    "yNlp = wine_data['price'].values\n",
    "\n"
   ]
  },
  {
   "cell_type": "code",
   "execution_count": 18,
   "metadata": {},
   "outputs": [],
   "source": [
    "# Splitting the dataset into the Training set and Test set\n",
    "X_train, X_test, y_train, y_test = train_test_split(XNlp, yNlp, test_size = 0.2, random_state = 0)\n",
    "\n",
    "# Fitting Naive Bayes to the Training set\n",
    "from sklearn.naive_bayes import GaussianNB\n",
    "classifier = GaussianNB()\n",
    "classifier.fit(X_train, y_train)\n",
    "\n",
    "# Predicting the Test set results\n",
    "y_pred = classifier.predict(X_test)\n",
    "\n",
    "# Making the Confusion Matrix\n",
    "cm = confusion_matrix(y_test, y_pred)"
   ]
  },
  {
   "cell_type": "code",
   "execution_count": 19,
   "metadata": {},
   "outputs": [
    {
     "output_type": "execute_result",
     "data": {
      "text/plain": [
       "(137235, 11)"
      ]
     },
     "metadata": {},
     "execution_count": 19
    }
   ],
   "source": [
    "wine_data.shape"
   ]
  },
  {
   "cell_type": "code",
   "execution_count": 20,
   "metadata": {},
   "outputs": [
    {
     "output_type": "execute_result",
     "data": {
      "text/plain": [
       "'Pale in color, this is nutty in character, with a warm and rounded hint of red fruits. The wine has a soft, while still fresh, aftertaste. It is aged in cellars in Saumur on the Loire river.'"
      ]
     },
     "metadata": {},
     "execution_count": 20
    }
   ],
   "source": [
    "wine_data.iloc[32]['description']"
   ]
  },
  {
   "cell_type": "code",
   "execution_count": 21,
   "metadata": {},
   "outputs": [
    {
     "output_type": "execute_result",
     "data": {
      "text/plain": [
       "145.0"
      ]
     },
     "metadata": {},
     "execution_count": 21
    }
   ],
   "source": [
    "y_pred[1]"
   ]
  },
  {
   "cell_type": "code",
   "execution_count": 22,
   "metadata": {},
   "outputs": [
    {
     "output_type": "execute_result",
     "data": {
      "text/plain": [
       "array([85., 50., 30., ..., 30., 43., 49.])"
      ]
     },
     "metadata": {},
     "execution_count": 22
    }
   ],
   "source": [
    "y_test"
   ]
  },
  {
   "cell_type": "code",
   "execution_count": 23,
   "metadata": {},
   "outputs": [
    {
     "output_type": "execute_result",
     "data": {
      "text/plain": [
       "array([[ 0,  0,  3, ...,  0,  0,  0],\n",
       "       [ 0,  8,  0, ...,  0,  0,  0],\n",
       "       [ 0,  2, 35, ...,  0,  0,  0],\n",
       "       ...,\n",
       "       [ 0,  0,  0, ...,  0,  0,  0],\n",
       "       [ 0,  0,  0, ...,  0,  1,  0],\n",
       "       [ 0,  0,  0, ...,  0,  0,  0]])"
      ]
     },
     "metadata": {},
     "execution_count": 23
    }
   ],
   "source": [
    "cm"
   ]
  },
  {
   "cell_type": "code",
   "execution_count": 16,
   "metadata": {},
   "outputs": [
    {
     "output_type": "error",
     "ename": "NameError",
     "evalue": "name 'y_pred' is not defined",
     "traceback": [
      "\u001b[0;31m---------------------------------------------------------------------------\u001b[0m",
      "\u001b[0;31mNameError\u001b[0m                                 Traceback (most recent call last)",
      "\u001b[0;32m<ipython-input-16-4c5eb7b1d77b>\u001b[0m in \u001b[0;36m<module>\u001b[0;34m\u001b[0m\n\u001b[0;32m----> 1\u001b[0;31m \u001b[0mIsLow\u001b[0m\u001b[0;34m=\u001b[0m \u001b[0mlist\u001b[0m\u001b[0;34m(\u001b[0m\u001b[0mmap\u001b[0m\u001b[0;34m(\u001b[0m\u001b[0;32mlambda\u001b[0m \u001b[0mx\u001b[0m\u001b[0;34m:\u001b[0m \u001b[0mx\u001b[0m\u001b[0;34m<\u001b[0m\u001b[0;36m50\u001b[0m\u001b[0;34m,\u001b[0m \u001b[0my_pred\u001b[0m\u001b[0;34m)\u001b[0m\u001b[0;34m)\u001b[0m\u001b[0;34m\u001b[0m\u001b[0;34m\u001b[0m\u001b[0m\n\u001b[0m\u001b[1;32m      2\u001b[0m \u001b[0mIsLow2\u001b[0m\u001b[0;34m=\u001b[0m \u001b[0mlist\u001b[0m\u001b[0;34m(\u001b[0m\u001b[0mmap\u001b[0m\u001b[0;34m(\u001b[0m\u001b[0;32mlambda\u001b[0m \u001b[0mx\u001b[0m\u001b[0;34m:\u001b[0m \u001b[0mx\u001b[0m\u001b[0;34m<\u001b[0m\u001b[0;36m50\u001b[0m\u001b[0;34m,\u001b[0m \u001b[0my_test\u001b[0m\u001b[0;34m)\u001b[0m\u001b[0;34m)\u001b[0m\u001b[0;34m\u001b[0m\u001b[0;34m\u001b[0m\u001b[0m\n\u001b[1;32m      3\u001b[0m \u001b[0mIsHi\u001b[0m\u001b[0;34m=\u001b[0m \u001b[0mlist\u001b[0m\u001b[0;34m(\u001b[0m\u001b[0mmap\u001b[0m\u001b[0;34m(\u001b[0m\u001b[0;32mlambda\u001b[0m \u001b[0mx\u001b[0m\u001b[0;34m:\u001b[0m \u001b[0mx\u001b[0m\u001b[0;34m>\u001b[0m\u001b[0;36m100\u001b[0m\u001b[0;34m,\u001b[0m \u001b[0my_pred\u001b[0m\u001b[0;34m)\u001b[0m\u001b[0;34m)\u001b[0m\u001b[0;34m\u001b[0m\u001b[0;34m\u001b[0m\u001b[0m\n\u001b[1;32m      4\u001b[0m \u001b[0mIsHi2\u001b[0m\u001b[0;34m=\u001b[0m \u001b[0mlist\u001b[0m\u001b[0;34m(\u001b[0m\u001b[0mmap\u001b[0m\u001b[0;34m(\u001b[0m\u001b[0;32mlambda\u001b[0m \u001b[0mx\u001b[0m\u001b[0;34m:\u001b[0m \u001b[0mx\u001b[0m\u001b[0;34m>\u001b[0m\u001b[0;36m100\u001b[0m\u001b[0;34m,\u001b[0m \u001b[0my_test\u001b[0m\u001b[0;34m)\u001b[0m\u001b[0;34m)\u001b[0m\u001b[0;34m\u001b[0m\u001b[0;34m\u001b[0m\u001b[0m\n",
      "\u001b[0;31mNameError\u001b[0m: name 'y_pred' is not defined"
     ]
    }
   ],
   "source": [
    "IsLow= list(map(lambda x: x<50, y_pred))\n",
    "IsLow2= list(map(lambda x: x<50, y_test))\n",
    "IsHi= list(map(lambda x: x>100, y_pred))\n",
    "IsHi2= list(map(lambda x: x>100, y_test))\n"
   ]
  },
  {
   "cell_type": "code",
   "execution_count": 28,
   "metadata": {},
   "outputs": [
    {
     "output_type": "execute_result",
     "data": {
      "text/plain": [
       "array([[23875,   323],\n",
       "       [ 2849,   400]])"
      ]
     },
     "metadata": {},
     "execution_count": 28
    }
   ],
   "source": [
    "confusion_matrix(IsHi, IsHi2)"
   ]
  },
  {
   "cell_type": "code",
   "execution_count": 17,
   "metadata": {},
   "outputs": [
    {
     "output_type": "stream",
     "name": "stdout",
     "text": [
      "8.96551724137931 10.373737373737374 12.395604395604396\n9.0 10.0 12.0\n7.0 7.0 8.0\n13.0 16.0 17.0\n"
     ]
    }
   ],
   "source": [
    "print(vv_low['price'].mean(), vv_med['price'].mean(), vv_high['price'].mean())\n",
    "print(vv_low['price'].median(), vv_med['price'].median(), vv_high['price'].median())\n",
    "print(vv_low['price'].min(), vv_med['price'].min(), vv_high['price'].min())\n",
    "print(vv_low['price'].max(), vv_med['price'].max(), vv_high['price'].max())"
   ]
  },
  {
   "cell_type": "code",
   "execution_count": 92,
   "metadata": {},
   "outputs": [
    {
     "output_type": "execute_result",
     "data": {
      "text/plain": [
       "Unnamed: 0                                                 12740\n",
       "country                                                 Portugal\n",
       "description    This is an impressively rich wine, full of cre...\n",
       "designation                                       Grande Escolha\n",
       "points                                                        91\n",
       "price                                                         17\n",
       "province                                             Vinho Verde\n",
       "region_1                                                     NaN\n",
       "region_2                                                     NaN\n",
       "variety                                         Portuguese White\n",
       "winery                                             Casa do Valle\n",
       "Name: 12740, dtype: object"
      ]
     },
     "metadata": {},
     "execution_count": 92
    }
   ],
   "source": [
    "vv_all.sort_values('points').iloc[384]"
   ]
  },
  {
   "cell_type": "code",
   "execution_count": 86,
   "metadata": {},
   "outputs": [],
   "source": [
    "vinho_verde['WineType']= vinho_verde['variety'].apply(lambda value: 0\n",
    "if value in ['Portuguese Rosé', 'Rosé', 'Portuguese Red'] else 1)"
   ]
  },
  {
   "cell_type": "code",
   "execution_count": 87,
   "metadata": {},
   "outputs": [
    {
     "output_type": "execute_result",
     "data": {
      "text/plain": [
       "      Unnamed: 0   country                                        description  \\\n",
       "277          277  Portugal  Pure Alvarinho from the Monção region, it's ri...   \n",
       "993          993  Portugal  With its typical prickle on the tongue, this i...   \n",
       "994          994  Portugal  Lightly spritzy, this tastes of crisp apple an...   \n",
       "1558        1558  Portugal  This medium-sweet rosé is a familiar style of ...   \n",
       "1559        1559  Portugal  Soft, light and fruity, this wine is ready for...   \n",
       "\n",
       "            designation  points  price     province region_1 region_2  \\\n",
       "277   Portal do Fidalgo      92   35.0  Vinho Verde      NaN      NaN   \n",
       "993             Campelo      85   10.0  Vinho Verde      NaN      NaN   \n",
       "994             Miranda      85    9.0  Vinho Verde      NaN      NaN   \n",
       "1558            Campelo      84   10.0  Vinho Verde      NaN      NaN   \n",
       "1559     Casal da Seara      84   10.0  Vinho Verde      NaN      NaN   \n",
       "\n",
       "               variety         winery  WineType  \n",
       "277          Alvarinho         Provam         1  \n",
       "993   Portuguese White  Caves Campelo         1  \n",
       "994   Portuguese White  Caves Campelo         1  \n",
       "1558              Rosé  Caves Campelo         0  \n",
       "1559  Portuguese White  Caves Campelo         1  "
      ],
      "text/html": "<div>\n<style scoped>\n    .dataframe tbody tr th:only-of-type {\n        vertical-align: middle;\n    }\n\n    .dataframe tbody tr th {\n        vertical-align: top;\n    }\n\n    .dataframe thead th {\n        text-align: right;\n    }\n</style>\n<table border=\"1\" class=\"dataframe\">\n  <thead>\n    <tr style=\"text-align: right;\">\n      <th></th>\n      <th>Unnamed: 0</th>\n      <th>country</th>\n      <th>description</th>\n      <th>designation</th>\n      <th>points</th>\n      <th>price</th>\n      <th>province</th>\n      <th>region_1</th>\n      <th>region_2</th>\n      <th>variety</th>\n      <th>winery</th>\n      <th>WineType</th>\n    </tr>\n  </thead>\n  <tbody>\n    <tr>\n      <th>277</th>\n      <td>277</td>\n      <td>Portugal</td>\n      <td>Pure Alvarinho from the Monção region, it's ri...</td>\n      <td>Portal do Fidalgo</td>\n      <td>92</td>\n      <td>35.0</td>\n      <td>Vinho Verde</td>\n      <td>NaN</td>\n      <td>NaN</td>\n      <td>Alvarinho</td>\n      <td>Provam</td>\n      <td>1</td>\n    </tr>\n    <tr>\n      <th>993</th>\n      <td>993</td>\n      <td>Portugal</td>\n      <td>With its typical prickle on the tongue, this i...</td>\n      <td>Campelo</td>\n      <td>85</td>\n      <td>10.0</td>\n      <td>Vinho Verde</td>\n      <td>NaN</td>\n      <td>NaN</td>\n      <td>Portuguese White</td>\n      <td>Caves Campelo</td>\n      <td>1</td>\n    </tr>\n    <tr>\n      <th>994</th>\n      <td>994</td>\n      <td>Portugal</td>\n      <td>Lightly spritzy, this tastes of crisp apple an...</td>\n      <td>Miranda</td>\n      <td>85</td>\n      <td>9.0</td>\n      <td>Vinho Verde</td>\n      <td>NaN</td>\n      <td>NaN</td>\n      <td>Portuguese White</td>\n      <td>Caves Campelo</td>\n      <td>1</td>\n    </tr>\n    <tr>\n      <th>1558</th>\n      <td>1558</td>\n      <td>Portugal</td>\n      <td>This medium-sweet rosé is a familiar style of ...</td>\n      <td>Campelo</td>\n      <td>84</td>\n      <td>10.0</td>\n      <td>Vinho Verde</td>\n      <td>NaN</td>\n      <td>NaN</td>\n      <td>Rosé</td>\n      <td>Caves Campelo</td>\n      <td>0</td>\n    </tr>\n    <tr>\n      <th>1559</th>\n      <td>1559</td>\n      <td>Portugal</td>\n      <td>Soft, light and fruity, this wine is ready for...</td>\n      <td>Casal da Seara</td>\n      <td>84</td>\n      <td>10.0</td>\n      <td>Vinho Verde</td>\n      <td>NaN</td>\n      <td>NaN</td>\n      <td>Portuguese White</td>\n      <td>Caves Campelo</td>\n      <td>1</td>\n    </tr>\n  </tbody>\n</table>\n</div>"
     },
     "metadata": {},
     "execution_count": 87
    }
   ],
   "source": [
    "vinho_verde.head()"
   ]
  },
  {
   "cell_type": "code",
   "execution_count": 88,
   "metadata": {},
   "outputs": [
    {
     "output_type": "stream",
     "name": "stdout",
     "text": [
      "[-1.73685637  1.31530807] -100.7861795541007\n",
      "0.21506532770778297\n",
      "                            OLS Regression Results                            \n",
      "==============================================================================\n",
      "Dep. Variable:                  price   R-squared:                       0.462\n",
      "Model:                            OLS   Adj. R-squared:                  0.457\n",
      "Method:                 Least Squares   F-statistic:                     98.36\n",
      "Date:                Thu, 17 Dec 2020   Prob (F-statistic):           1.47e-31\n",
      "Time:                        14:18:59   Log-Likelihood:                -605.41\n",
      "No. Observations:                 232   AIC:                             1217.\n",
      "Df Residuals:                     229   BIC:                             1227.\n",
      "Df Model:                           2                                         \n",
      "Covariance Type:            nonrobust                                         \n",
      "==============================================================================\n",
      "                 coef    std err          t      P>|t|      [0.025      0.975]\n",
      "------------------------------------------------------------------------------\n",
      "const       -100.7862      8.112    -12.425      0.000    -116.769     -84.803\n",
      "x1            -1.7369      0.738     -2.353      0.019      -3.191      -0.282\n",
      "x2             1.3153      0.097     13.627      0.000       1.125       1.505\n",
      "==============================================================================\n",
      "Omnibus:                       63.218   Durbin-Watson:                   2.076\n",
      "Prob(Omnibus):                  0.000   Jarque-Bera (JB):              180.572\n",
      "Skew:                           1.171   Prob(JB):                     6.16e-40\n",
      "Kurtosis:                       6.633   Cond. No.                     3.23e+03\n",
      "==============================================================================\n",
      "\n",
      "Notes:\n",
      "[1] Standard Errors assume that the covariance matrix of the errors is correctly specified.\n",
      "[2] The condition number is large, 3.23e+03. This might indicate that there are\n",
      "strong multicollinearity or other numerical problems.\n"
     ]
    }
   ],
   "source": [
    "#Regression from (Points, WineType) to Price\n",
    "vinho_verde = vinho_verde.sample(frac=1, random_state=42).reset_index(drop=True)\n",
    "#sc=StandardScaler()\n",
    "#vinho_verde['points']=sc.fit_transform((vinho_verde['points']).values.reshape(-1,1))\n",
    "X=np.c_[(vinho_verde['WineType'], vinho_verde['points'])]\n",
    "y=vinho_verde['price']\n",
    "Xtrain, Xtest, ytrain, ytest = train_test_split(X, y, random_state=1)\n",
    "regressor=LinearRegression()\n",
    "regressor.fit(Xtrain,ytrain)\n",
    "print(regressor.coef_, regressor.intercept_)\n",
    "print(regressor.score(Xtest,ytest))\n",
    "Xtrain = np.append (arr=np.ones([Xtrain.shape[0],1]).astype(int), values = Xtrain, axis = 1)\n",
    "Xtest = np.append (arr=np.ones([Xtest.shape[0],1]).astype(int), values = Xtest, axis = 1)\n",
    "import statsmodels.api as sm\n",
    "X_opt = [0,1,2]\n",
    "regressor = sm.OLS(ytrain, Xtrain[:,X_opt]).fit()\n",
    "print(regressor.summary())\n",
    "#Estimated Price: -100.7862+1.3153*quality-1.7362*IsWhite"
   ]
  },
  {
   "cell_type": "code",
   "execution_count": null,
   "metadata": {},
   "outputs": [],
   "source": []
  }
 ]
}